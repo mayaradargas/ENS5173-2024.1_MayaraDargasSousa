{
 "cells": [
  {
   "cell_type": "markdown",
   "id": "a5e8043c-8dea-48d6-8802-b96524119d01",
   "metadata": {},
   "source": [
    "# Atividade 01 - Parte 01: Inventário de emissões utilizando Python\n"
   ]
  },
  {
   "cell_type": "markdown",
   "id": "450f1728-e407-4bc1-a014-c2291c8ec2d9",
   "metadata": {},
   "source": [
    "#### Alunos: Matheus Henrique Lourenço de Oliveira (19205617) e Mayara Dargas Sousa (20203642)"
   ]
  },
  {
   "cell_type": "markdown",
   "id": "21940140-9de0-4572-9375-2107eb2ea7d4",
   "metadata": {},
   "source": [
    "## Introdução"
   ]
  },
  {
   "cell_type": "markdown",
   "id": "f1094e45-0969-4d18-83d3-f33c1d483077",
   "metadata": {},
   "source": [
    "O presente estudo tem o objetivo de realizar uma estimativa das emissões de Material Particulado (PM), Óxidos de Nitrogênio (NOx), Dóxido de Enxofre (SO2) e Dióxido de carbono (CO2) com base em dados do Relatório de ESG do grupo MOHAWK, o qual a marca Eliane revestimentosfaz parte. Foi utilizado o capítulo 11.7 da AP42, pois o empreendimento trata-se de uma Indústria de Revestimentos Cerâmicos (https://www.epa.gov/sites/default/files/2020-10/documents/c11s07.pdf).\n",
    "\n",
    "Os valores descritos na tabela seguir apresenta os fatores de emissão fornecidos pela AP-42, os quais foram convertidos de lb/ton para kg/ton, conforme instruções da Ap-42. Para o dióxido de enxofre (SO2), foi adotado o valor citado na referência: \"Reference 10. For facilities using raw material with a sulfur content greater than 0.07 percent. The variable S represents the raw material sulfur content (percent). For facilities using raw material with a sulfur content less than or equal to 0.07 percent, use 9.5 S lb/ton to estimate emissions.”"
   ]
  },
  {
   "cell_type": "markdown",
   "id": "f87e1e58-99ae-4155-a06e-1e4d976adb03",
   "metadata": {},
   "source": [
    "## Fluxograma do processo produtivo"
   ]
  },
  {
   "cell_type": "code",
   "execution_count": 57,
   "id": "c426ee29-f478-4785-ac58-ecff445556f3",
   "metadata": {},
   "outputs": [],
   "source": [
    "# se sobrar tempo colocar o fluxograma aqui "
   ]
  },
  {
   "cell_type": "markdown",
   "id": "de3c6ee9-aff8-442c-94c9-318228b13ae7",
   "metadata": {},
   "source": [
    "## Planilha de fatores de emissões compilada"
   ]
  },
  {
   "cell_type": "code",
   "execution_count": null,
   "id": "4cd16478-c9e2-4077-8112-4d4a6ff359fe",
   "metadata": {},
   "outputs": [],
   "source": [
    "import pandas as pd\n",
    "import os\n",
    "from IPython.display import display\n",
    "\n",
    "# Coletando o caminho da pasta que estamos\n",
    "caminho_atual = os.getcwd()\n",
    "\n",
    "# Definindo o caminho da pasta dos fatores de emissão\n",
    "caminho_fe = os.path.join(caminho_atual, 'tabelas', 'FE')\n",
    "\n",
    "# Indicando o número do capítulo e subcapítulo\n",
    "capitulo = 11\n",
    "subcapitulo = 7\n",
    "\n",
    "# Construindo o nome do arquivo\n",
    "nome_arquivo = f'chp_{capitulo}_{subcapitulo}.csv'\n",
    "\n",
    "# Caminho completo do arquivo\n",
    "caminho_arquivo = os.path.join(caminho_fe, nome_arquivo)\n",
    "\n",
    "# Abrindo o arquivo utilizando o Pandas\n",
    "fe = pd.read_csv(caminho_arquivo)\n",
    "\n",
    "# Estilizando a planilha com cores alternadas para as linhas e colunas\n",
    "styled_fe = fe.style.set_properties(**{'text-align': 'center'}) \\\n",
    "                     .set_table_styles([\n",
    "                         {'selector': 'tr:nth-child(even)', 'props': [('background-color', '#f2f2f2')]},\n",
    "                         {'selector': 'tr:nth-child(odd)', 'props': [('background-color', 'white')]},\n",
    "                         {'selector': 'th', 'props': [('background-color', '#e6e6e6')]},\n",
    "                         {'selector': 'td', 'props': [('background-color', 'white')]}\n",
    "                     ])\n",
    "\n",
    "# Exibindo a planilha estilizada na tela\n",
    "display(styled_fe)\n",
    "\n",
    "#obs: centralizar a planilha e diminuir casas decimais se possível"
   ]
  },
  {
   "cell_type": "markdown",
   "id": "de73f9e7-1881-4dba-b6b1-12b920689966",
   "metadata": {},
   "source": [
    "## Estimativa da produção: premissas adotadas e valores fornecidos"
   ]
  },
  {
   "cell_type": "markdown",
   "id": "e61b19fd-8b27-4844-aaf2-b0d67e01eeb8",
   "metadata": {},
   "source": [
    "Conforme dados institucionais de 2021, a Eliane revestimentos produz 40.8 milhões de m² de revestimentos por ano, distribuídos em 6 unidades em todo o Brasil. Assumindo a premissa de que cada unidade produz a mesma quantidade, a unidade de interesse, em Criciúma - SC, produziria aproximadamente 6.8 milhões de m² de revestimento.\n",
    "\n",
    "Além disso, de modo a estimar este valor em toneladas, foram utilizados os valores de peso e medida do modelo mais vendido da fábrica, o porcelanato Bianco plus NA 60X60 com as seguintes especificações técnicas:\n",
    "\n",
    "- Peso da caixa: 30,38 kg\n",
    "- Rendimento: 1,44 m²\n",
    "\n",
    "Portanto, se: \n",
    "\n",
    "30,38 kg ----- 1,44 m² \n",
    "\n",
    "   X     ----- 6.8 x 10^6 m²\n",
    "\n",
    "X = 143.46111 x 10^6 kg = 143461,11 toneladas/ano \n",
    "\n",
    "ou então, \n",
    "\n",
    "11955,09 toneladas/mês. Também assumindo a premissa de uma escala produtiva uniforma ao longo do ano."
   ]
  },
  {
   "cell_type": "markdown",
   "id": "5ea8070f-33be-4ef5-9580-599d54255ead",
   "metadata": {},
   "source": [
    "## Plotando os fatores de emissão"
   ]
  },
  {
   "cell_type": "code",
   "execution_count": null,
   "id": "bf80f5af-d793-4074-be9f-a59c8067ac72",
   "metadata": {},
   "outputs": [],
   "source": [
    "import matplotlib.pyplot as plt\n",
    "import numpy as np\n",
    "\n",
    "atv = 143461.11  # A unidade descrita aqui é toneladas. Os processos para determinar este valor estão descritos anteriormente\n",
    "emis = fe['PM'] * atv\n",
    "\n",
    "cwd = os.getcwd()\n",
    "\n",
    "# Somando dataframe\n",
    "print(emis.sum())\n",
    "\n",
    "# Criando a figura com Matplotlib\n",
    "# Subplots com número de linhas igual ao número de poluentes\n",
    "# sharex significa compartilhar o eixo x\n",
    "fig, ax = plt.subplots(len(fe.columns) - 1, 1, sharex=True, figsize=(9, 15))\n",
    "\n",
    "# Loop para preencher o subplot com os gráficos de barra\n",
    "for ii in range(1, len(fe.columns)):\n",
    "    print(ii)\n",
    "    ax[ii - 1].bar(fe['Source'], fe.iloc[:, ii], color=['#3856CF'])\n",
    "    ax[ii - 1].set_xlabel('Processo', fontsize=8)  # Define o tamanho da fonte para o eixo x\n",
    "    ax[ii - 1].set_ylabel(fe.columns[ii] + '\\n(kg/t)', fontsize=8)  # Define o tamanho da fonte para o eixo y\n",
    "\n",
    "    # Define o tamanho da fonte para os rótulos dos ticks nos eixos x e y\n",
    "    ax[ii - 1].tick_params(axis='x', labelsize=8)\n",
    "    ax[ii - 1].tick_params(axis='y', labelsize=8)\n",
    "\n",
    "    # Define os rótulos dos ticks nos eixos x\n",
    "    ax[ii - 1].set_xticks(fe['Source'].index)  # Define a localização dos ticks no eixo x\n",
    "    ax[ii - 1].set_xticklabels(fe['Source'], rotation=45, ha='right', fontsize=8)  # Define os rótulos dos ticks no eixo x\n",
    "\n",
    "    # Adicionando linhas de grade\n",
    "    ax[ii - 1].grid(True, linestyle='--', alpha=0.5)\n",
    "\n",
    "    # Adicionando rótulos nos topos das barras\n",
    "    for x, y in zip(fe['Source'], fe.iloc[:, ii]):\n",
    "        if np.isfinite(y):  # Verifica se o valor de y é finito\n",
    "            ax[ii - 1].text(x, y + 0.05, f'{y:.2f}', ha='center', fontsize=8)\n",
    "\n",
    "# Salva a figura na pasta figures\n",
    "fig.savefig(cwd + '\\\\figures\\\\barplot_fatorEmiss.png')\n",
    "\n",
    "plt.show()\n"
   ]
  },
  {
   "cell_type": "markdown",
   "id": "d904f6a6-a74e-47ca-9639-08f2846aaa97",
   "metadata": {},
   "source": [
    "### Qual é o processo do empreendimento que possui maior emissão? analise os fatores de emissão através de figuras, comparando os processos"
   ]
  },
  {
   "cell_type": "markdown",
   "id": "4afad3b5-3996-4f28-9f9f-3149757490e7",
   "metadata": {},
   "source": [
    "Não é possível avaliar de forma precisa qual o processo do empreendimento que produz mais poluentes devido a ausência de valores de fatores de emissão para todos os processos mencionados, fazendo com que não seja possível avaliá-los de forma igual. Entretanto, se for levado em consideração apenas a emissão de partículado, o processo que possui a maior emissão ao longo de um ano é a o secador ou \"dryer\"."
   ]
  },
  {
   "cell_type": "markdown",
   "id": "ac091229-e8e4-475b-8468-079839849d3f",
   "metadata": {},
   "source": [
    "# Criando taxa de atividade aleatória com sazonalidade"
   ]
  },
  {
   "cell_type": "markdown",
   "id": "46ee3af0-4e78-467b-a696-e1499bd3c02e",
   "metadata": {},
   "source": [
    "### Série temporal das emissões mensais do empreendimento"
   ]
  },
  {
   "cell_type": "markdown",
   "id": "0773759e-cb6a-4a65-8419-2f1d6f65f27f",
   "metadata": {},
   "source": [
    "XXXXXXXXX EXPLICAR acho que tem que dividir os valores anterioires por por 12 e premissas adotadas para atividade máxima e min\n",
    "### Nesta sessão nós criaremos uma taxa de atividade de um empreendimento qualquer que contenha sazonalidade ao longo dos meses do ano. Esta variabilidade também deve conter uma componente aleatória.\n",
    "\n",
    "Dado que só possuímos um dado anual, a taxa de atividade foi convertida para toneladas por dia, resultando em um valor de aproximadamente 393,04 toneladas por dia. Reconhecendo que a produção não é um valor constante e que a produtividade pode variar de um dia para outro, consideramos dois cenários. No primeiro cenário, a taxa de atividade é calculada estipulando uma faixa de valores a partir de atividades máximas e mínimas, em que foi considerado uma variação de 393,04 ±0,5 ton/dia"
   ]
  },
  {
   "cell_type": "code",
   "execution_count": null,
   "id": "41e268f4-9110-4957-9c9d-1706f84bddc6",
   "metadata": {},
   "outputs": [],
   "source": [
    "import numpy as np\n",
    "import pandas as pd\n",
    "import matplotlib.pyplot as plt\n",
    "import os\n",
    "\n",
    "# Criando vetor de valores aleatórios\n",
    "atvMax = 393.54\n",
    "atvMin = 392.54\n",
    "n = 1000\n",
    "atv = (atvMax - atvMin) * np.random.rand(n) + atvMin\n",
    "#print(atv)\n",
    "\n",
    "# Exportando os dados para um arquivo .csv\n",
    "output_folder = 'outputs'\n",
    "output_file = 'dados_aleatorios.csv'\n",
    "output_path = os.path.join(output_folder, output_file)\n",
    "\n",
    "# Criando DataFrame com os dados aleatórios\n",
    "df = pd.DataFrame({'Atividade': atv})\n",
    "print(df)\n",
    "\n",
    "# Salvando o DataFrame como arquivo .csv\n",
    "df.to_csv(output_path, index=False)\n",
    "\n",
    "# Criando uma figura com os valores aleatórios\n",
    "fig, ax = plt.subplots()\n",
    "ax.plot(atv)\n",
    "plt.show()\n"
   ]
  },
  {
   "cell_type": "code",
   "execution_count": null,
   "id": "393511e2-ce3b-43cf-b34d-211148906b05",
   "metadata": {},
   "outputs": [],
   "source": [
    "# Criando vetor de datas\n",
    "import pandas as pd\n",
    "\n",
    "# Criar um intervalo de datas\n",
    "datas = pd.date_range(start='2024-01-01', end='2024-12-31', freq='D')\n",
    "\n",
    "# Criar um DataFrame com as datas\n",
    "df = pd.DataFrame({'Data': datas})\n",
    "\n",
    "# Extrair os meses das datas e adicioná-los como uma nova coluna no DataFrame\n",
    "df['Mes'] = df['Data'].dt.month\n",
    "\n",
    "\n",
    "#criar um array de 1 a 365 e colocar igual a df['Dia']\n",
    "df['Dia do Ano'] = df['Data'].dt.dayofyear  \n",
    "\n",
    "# Mostrar o DataFrame resultante\n",
    "print(df)\n",
    "\n"
   ]
  },
  {
   "cell_type": "code",
   "execution_count": null,
   "id": "933f53a2-f325-40b4-a28d-607791c94e41",
   "metadata": {},
   "outputs": [],
   "source": [
    "# Ajustar meus números aleatórios com base no comprimento do vetor de datas\n",
    "\n",
    "# Criando dataframe com datas e valores de atividade aleatória\n",
    "import pandas as pd\n",
    "# Extraindo o número de linhas/número de datas\n",
    "n = df.shape[0]\n",
    "\n",
    "# Criando atividade aleatória\n",
    "atv = (atvMax - atvMin)*np.random.rand(n) + atvMin\n",
    "df['atividade'] = atv\n",
    "#print(atv)\n",
    "print(df)\n",
    "df.to_csv(r\"C:\\ENS5173_MayaraDargas\\ENS5173-2024.1_MayaraDargasSousa\\tabelas\\ativ0.csv\")\n",
    "\n",
    "\n",
    "#Criando uma figura com os valores aleatórios\n",
    "fig, ax = plt.subplots()\n",
    "ax.plot(datas, atv)\n",
    "plt.show()\n"
   ]
  },
  {
   "cell_type": "code",
   "execution_count": null,
   "id": "1f05114b-78e4-4f13-84aa-65ad0049114f",
   "metadata": {},
   "outputs": [],
   "source": [
    "# Criando componente sazonal\n",
    "\n",
    "sazonalidade = np.cos((2*np.pi)*df['Dia do Ano']/365)+1 #taxa de revestimento produzida diariamente \n",
    "plt.plot(sazonalidade)\n",
    "df['sazonalidade'] = sazonalidade \n",
    "df.to_csv \n",
    "print(sazonalidade)\n",
    "\n",
    "df.to_csv(r\"C:\\ENS5173_MayaraDargas\\ENS5173-2024.1_MayaraDargasSousa\\tabelas\\ativ.csv\")"
   ]
  },
  {
   "cell_type": "code",
   "execution_count": null,
   "id": "6679fbec-1f1c-474f-a213-5aff25b415fb",
   "metadata": {},
   "outputs": [],
   "source": [
    "#Variablidade com Monte Carlo\n",
    "import numpy as np\n",
    "\n",
    "# Gerando variabilidade usando o método Monte Carlo\n",
    "df['variabilidade'] = np.random.rand(len(df)) * (atvMax - atvMin) + atvMin\n",
    "\n",
    "# Definindo a produção diária aplicando variabilidade\n",
    "df['producao_diaria'] =  df['variabilidade'] + df['sazonalidade'] \n",
    "\n",
    "\n",
    "print (df)\n"
   ]
  },
  {
   "cell_type": "code",
   "execution_count": null,
   "id": "8be2d4a3-6dad-4733-b2d4-3ac14f6f5457",
   "metadata": {},
   "outputs": [],
   "source": [
    "# Vamos usar essa coluna para o eixo x no gráfico\n",
    "# Substitua 'Dia do Ano' pelo nome da coluna correspondente em seu DataFrame, se necessário\n",
    "fig, ax = plt.subplots(2)\n",
    "\n",
    "# Plotagem do primeiro gráfico\n",
    "ax[0].plot(df['Dia do Ano'], df['producao_diaria'])\n",
    "ax[0].set_title('Produção Anual com Variabilidade')\n",
    "ax[0].set_xlabel('Dia do Ano')\n",
    "ax[0].set_ylabel('Produção Diária (ton)')\n",
    "\n",
    "# Plotagem do segundo gráfico\n",
    "ax[1].plot(df['atividade']*df['sazonalidade'])\n",
    "ax[1].set_title('Produção Anual sem Variabilidade')\n",
    "ax[1].set_xlabel('Dia do Ano')\n",
    "ax[1].set_ylabel('Produção Diária (ton)')\n",
    "\n",
    "# Adicionando espaço entre os gráficos\n",
    "plt.subplots_adjust(hspace=1)\n",
    "\n",
    "plt.show()\n"
   ]
  },
  {
   "cell_type": "markdown",
   "id": "a580e72c-c433-424b-971c-b661b3f67a28",
   "metadata": {},
   "source": [
    "Dado que só possuímos um dado anual, a taxa de atividade foi convertida para toneladas por dia, resultando em um valor de aproximadamente 393,04 toneladas por dia. Reconhecendo que a produção não é um valor constante e que a produtividade pode variar de um dia para outro, consideramos dois cenários. No primeiro cenário, a taxa de atividade é calculada estipulando uma faixa de valores a partir de atividades máximas e mínimas, em que foi considerado uma variação de 393,04 ±0,5 ton/dia."
   ]
  },
  {
   "cell_type": "markdown",
   "id": "0727aa00-7c4d-467f-a261-1a6ab767054f",
   "metadata": {},
   "source": [
    "### Qual a variabilidade temporal da taxa de atividade? estime esta taxa e demonstre a componente sazonal (variabilidade entre meses) e aleatória. Faça figuras e discuta. "
   ]
  },
  {
   "cell_type": "code",
   "execution_count": null,
   "id": "2336392b-7826-4905-8723-935eb9c2ea64",
   "metadata": {},
   "outputs": [],
   "source": [
    "# Criando subplots para cada processo\n",
    "fig, axs = plt.subplots(7, 3, figsize=(15, 20))\n",
    "for idx, (processo, idx_fe) in enumerate(processos):\n",
    "    for ii in range(1, 4):\n",
    "        axs[idx, ii-1].plot(df['Dia do Ano'], df['producao_diaria']*fe.iloc[idx_fe, ii])\n",
    "        axs[idx, ii-1].set_ylabel(fe.columns[ii]+'\\n (kg)', fontsize=12)\n",
    "        axs[idx, ii-1].set_title(processo, fontsize=14)  # Adicionando o título do processo em cada gráfico\n",
    "plt.tight_layout()\n",
    "plt.show()\n",
    "\n",
    "# Adicionando linha para cada mês\n",
    "for date in pd.date_range(start='2023-01-01', end='2023-12-31', freq='MS'):\n",
    "    ax.axvline(x=date, color='black', linestyle='--', alpha=0.5)\n",
    "\n",
    "# Configurando o formato do eixo x para mostrar os meses abreviados\n",
    "ax.xaxis.set_major_locator(mdates.MonthLocator())  # Coloca um marcador em cada mês\n",
    "ax.xaxis.set_major_formatter(mdates.DateFormatter('%b'))  # Mostra os três primeiros caracteres do mês\n"
   ]
  },
  {
   "cell_type": "code",
   "execution_count": null,
   "id": "4edd08ac-550c-4852-a6ca-c042822c92a2",
   "metadata": {},
   "outputs": [],
   "source": [
    "import matplotlib.dates as mdates  # Importando o módulo de datas do Matplotlib\n",
    "\n",
    "# Criando subplots para cada processo\n",
    "fig, axs = plt.subplots(7, 3, figsize=(15, 20))\n",
    "for idx, (processo, idx_fe) in enumerate(processos):\n",
    "    for ii in range(1, 4):\n",
    "        # Plotando o gráfico com os meses na legenda do eixo x\n",
    "        ax = axs[idx, ii-1]  # Selecionando o eixo atual\n",
    "        ax.plot(df['Dia do Ano'], df['producao_diaria']*fe.iloc[idx_fe, ii])\n",
    "        ax.set_ylabel(fe.columns[ii]+'\\n (kg)', fontsize=12)\n",
    "        ax.set_title(processo, fontsize=14)  # Adicionando o título do processo em cada gráfico\n",
    "        \n",
    "        # Adicionando linha para cada mês\n",
    "        for date in pd.date_range(start='2023-01-01', end='2023-12-31', freq='MS'):\n",
    "            ax.axvline(x=date, color='black', linestyle='--', alpha=0.5)\n",
    "        \n",
    "        # Configurando o formato do eixo x para mostrar os meses abreviados\n",
    "        ax.xaxis.set_major_locator(mdates.MonthLocator())  # Coloca um marcador em cada mês\n",
    "        ax.xaxis.set_major_formatter(mdates.DateFormatter('%b'))  # Mostra os três primeiros caracteres do mês\n",
    "\n",
    "plt.tight_layout()\n",
    "plt.show()\n"
   ]
  },
  {
   "cell_type": "markdown",
   "id": "23f92d16-6b52-47a9-afa9-fc03039d00b6",
   "metadata": {},
   "source": [
    "### Qual a soma das emissões considerando todos os processos? qual a emissão média, mínima e máxima (unidades sempre em gramas por segundo - g/s)"
   ]
  },
  {
   "cell_type": "code",
   "execution_count": null,
   "id": "d4c2e998-b61f-4d8d-a175-3921ac8f2101",
   "metadata": {},
   "outputs": [],
   "source": [
    "# Calcular as emissões mensais para cada poluente\n",
    "emissoes_mensais = {}\n",
    "for poluente in fe.columns[1:]:\n",
    "    # Agrupar por mês e somar as emissões diárias\n",
    "    emissoes_mensais[poluente] = df.groupby('Mes')['aleatorioSazonal'].sum()\n",
    "\n",
    "# Calcular as emissões totais mensais em g/s para cada poluente\n",
    "emissoes_totais_g_s = {}\n",
    "for poluente, emissao_mensal in emissoes_mensais.items():\n",
    "    emissoes_totais_g_s[poluente] = emissao_mensal * 1000 / (30 * 24 * 3600)  # Convertendo kg para g e dividindo pelo número de segundos em um mês\n",
    "\n",
    "# Calcular as emissões totais para cada poluente considerando todos os processos\n",
    "emissoes_totais = {}\n",
    "for poluente in fe.columns[1:]:\n",
    "    atv_processo = (atvMax - atvMin) * np.random.rand(len(fe)) + atvMin\n",
    "    emissoes_totais[poluente] = fe[poluente] * atv_processo\n",
    "\n",
    "# Calcular a emissão média, mínima e máxima para cada poluente\n",
    "resultados_emissoes = {}\n",
    "for poluente, emissao_total in emissoes_totais.items():\n",
    "    emissao_media = emissao_total.mean()  # Média das emissões totais\n",
    "    emissao_minima = emissao_total.min()  # Mínima das emissões totais\n",
    "    emissao_maxima = emissao_total.max()  # Máxima das emissões totais\n",
    "    resultados_emissoes[poluente] = {\n",
    "        'Emissão Média (g/s)': emissao_media,\n",
    "        'Emissão Mínima (g/s)': emissao_minima,\n",
    "        'Emissão Máxima (g/s)': emissao_maxima\n",
    "    }\n",
    "\n",
    "# Exibir os resultados para cada poluente\n",
    "for poluente, resultados in resultados_emissoes.items():\n",
    "    print(f\"Resultados para o poluente '{poluente}':\")\n",
    "    for chave, valor in resultados.items():\n",
    "        print(f\"{chave}: {valor} \")\n",
    "    print()  # Adiciona uma linha em branco após cada conjunto de resultados\n"
   ]
  },
  {
   "cell_type": "markdown",
   "id": "b367b1b7-3630-4c8d-be9f-9a826fe09eac",
   "metadata": {},
   "source": [
    "Referências\n",
    "- https://mohawkind.com/_pdf/Eliane_2022_ESG_PT.pdf\n",
    "- https://www.eliane.com/institucional\n",
    "- https://www.eliane.com/produtos/bianco-plus-na-60x60-sc-8017071 "
   ]
  },
  {
   "cell_type": "code",
   "execution_count": null,
   "id": "298723b8-0b8d-4f71-b074-78987294ff21",
   "metadata": {},
   "outputs": [],
   "source": [
    "somar a varialibilidade a sazonalidade  e não multiplicar, eu tenho que colocar em variação diaária "
   ]
  }
 ],
 "metadata": {
  "kernelspec": {
   "display_name": "Python 3 (ipykernel)",
   "language": "python",
   "name": "python3"
  },
  "language_info": {
   "codemirror_mode": {
    "name": "ipython",
    "version": 3
   },
   "file_extension": ".py",
   "mimetype": "text/x-python",
   "name": "python",
   "nbconvert_exporter": "python",
   "pygments_lexer": "ipython3",
   "version": "3.11.8"
  }
 },
 "nbformat": 4,
 "nbformat_minor": 5
}
