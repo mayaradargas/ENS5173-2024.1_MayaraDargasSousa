{
 "cells": [
  {
   "cell_type": "markdown",
   "id": "d04fdea0-ad55-4597-8b66-0dea509686ea",
   "metadata": {},
   "source": [
    "# Atividade 01: Etapa 01 --> Aula 02 - Python"
   ]
  },
  {
   "cell_type": "markdown",
   "id": "ec0989ae-81c8-4998-9e60-338eb632e695",
   "metadata": {},
   "source": [
    "## Dados númericos"
   ]
  },
  {
   "cell_type": "code",
   "execution_count": 3,
   "id": "518fad2e-b5d9-4a2f-a0b9-92f007b64385",
   "metadata": {},
   "outputs": [
    {
     "name": "stdout",
     "output_type": "stream",
     "text": [
      "Valor de a = 1\n"
     ]
    },
    {
     "data": {
      "text/plain": [
       "int"
      ]
     },
     "execution_count": 3,
     "metadata": {},
     "output_type": "execute_result"
    }
   ],
   "source": [
    "# Variável interira - Comentário: linha não executada, utilizada para fornecer informações sobre o código\n",
    "a = 1 # declara uma variável chamada \"a\" e atribui o valor inteiro 1 a ela\n",
    "print('Valor de a = '+str(a)) # O comando 'print\" imprime uma mensagem na tela que inclui o valor da variável a. str(a) é usado para converter o valor de a em uma string\n",
    "type(a) #é uma função que retorna o tipo de dados da variável"
   ]
  },
  {
   "cell_type": "code",
   "execution_count": 4,
   "id": "1a979757-ddcf-4043-acd8-192a3b6c07bb",
   "metadata": {},
   "outputs": [
    {
     "name": "stdout",
     "output_type": "stream",
     "text": [
      "1.0\n"
     ]
    },
    {
     "data": {
      "text/plain": [
       "float"
      ]
     },
     "execution_count": 4,
     "metadata": {},
     "output_type": "execute_result"
    }
   ],
   "source": [
    "#Variável dupla precisão\n",
    "b = 1.0 #b é uma variável que armazena um número real (ponto flutuante) com precisão dupla, ou seja, não é inteio como anteriormente\n",
    "print(b) \n",
    "type (b)"
   ]
  },
  {
   "cell_type": "code",
   "execution_count": 5,
   "id": "d82bf526-27aa-450b-967b-de7daeb6db3e",
   "metadata": {},
   "outputs": [
    {
     "name": "stdout",
     "output_type": "stream",
     "text": [
      "1\n"
     ]
    },
    {
     "data": {
      "text/plain": [
       "int"
      ]
     },
     "execution_count": 5,
     "metadata": {},
     "output_type": "execute_result"
    }
   ],
   "source": [
    "#Converter float para int\n",
    "c=int(b) #converte a variável criada anterioirmente em uma variável do tipo inteiro\n",
    "print(c)\n",
    "type(c)"
   ]
  },
  {
   "cell_type": "code",
   "execution_count": 7,
   "id": "2268013b-b638-499b-88f2-c7412fe13369",
   "metadata": {},
   "outputs": [
    {
     "name": "stdout",
     "output_type": "stream",
     "text": [
      "nan\n"
     ]
    },
    {
     "data": {
      "text/plain": [
       "float"
      ]
     },
     "execution_count": 7,
     "metadata": {},
     "output_type": "execute_result"
    }
   ],
   "source": [
    "#Declarando nan (Not a Number) \n",
    "import numpy as np #importa a biblioteca NumPy com um apelido np\n",
    "d = np.nan #Esta linha atribui à variável d o valor np.nan, que representa um valor \"Not a Number\" (NaN), um conceito comumente utilizado em cálculos numéricos e científicos para representar valores indefinidos ou ausentes\n",
    "print(d)\n",
    "type(d)"
   ]
  },
  {
   "cell_type": "code",
   "execution_count": 15,
   "id": "c049b21c-63bb-409f-9def-73c97991e80b",
   "metadata": {},
   "outputs": [
    {
     "name": "stdout",
     "output_type": "stream",
     "text": [
      "nan\n",
      "nan\n",
      "1.0\n"
     ]
    }
   ],
   "source": [
    "#Operação com NaN\n",
    "e = d*1 #Esta linha realiza uma operação de multiplicação entre a variável d e o número 1. Como d é um nan, qualquer operação matemática envolvendo um nan resultará em outro nan\n",
    "print(e) #Portanto, aqui como saída é printado \"nan\"\n",
    "e = d+1 #Mesma situação descrita antes, operação com um NaN resulta em NaN\n",
    "print(e)\n",
    "e = np.nansum([d,1]) #np.nansum() é uma função da biblioteca NumPy que é utilizada para somar os valores dos elementos array ([d, 1]), ignorando os valores nan (Not a Number). Sendo o array estruturas de dados que armazenam uma coleção de elementos números, strings ou outros tipos de dados, podendo ser no formato de vetor (informações unidimensionais) ou matriz (multidimensional).\n",
    "print(e) #Portanto, mesmo que d seja nan, a função irá somar o valor 1."
   ]
  },
  {
   "cell_type": "markdown",
   "id": "87cfb1a8-152c-43ce-aadb-d3727e9705ba",
   "metadata": {},
   "source": [
    "## Dados de texto"
   ]
  },
  {
   "cell_type": "code",
   "execution_count": 11,
   "id": "eeff303f-f851-45a5-8eed-7f3904169a3c",
   "metadata": {},
   "outputs": [
    {
     "name": "stdout",
     "output_type": "stream",
     "text": [
      "Fábio\n",
      "Gabriel\n",
      "FábioGabriel\n",
      "Fábio Gabriel\n"
     ]
    }
   ],
   "source": [
    "# Declaração de variável texto\n",
    "f = 'Fábio'#Delcara a variável \"f\" como 'Fábio', e a delimita como string por meio das aspas\n",
    "g = \"Gabriel\" #Mesma situação aneterioir, só que com aspas duplas\n",
    "print(f)\n",
    "print(g)\n",
    "print(f+g) #imprime o valor sem espaço\n",
    "print(f+' '+g) #imprime o valor com espaço ente os nomes "
   ]
  },
  {
   "cell_type": "markdown",
   "id": "5af05a41-bec4-4315-b5bf-76329ad24958",
   "metadata": {},
   "source": [
    "## Dados tipo bol - lógica "
   ]
  },
  {
   "cell_type": "code",
   "execution_count": 18,
   "id": "9314dc32-dd06-4071-aad5-966f5f69de2c",
   "metadata": {},
   "outputs": [
    {
     "data": {
      "text/plain": [
       "True"
      ]
     },
     "execution_count": 18,
     "metadata": {},
     "output_type": "execute_result"
    }
   ],
   "source": [
    "a == 1 #é uma expressão booleana em Python que compara o valor da variável a com o valor inteiro 1 atirbuído anteriormente, caso a seja igual a 1 retorna \"True\", caso contrário \"False\""
   ]
  },
  {
   "cell_type": "code",
   "execution_count": 17,
   "id": "69ca0f2c-ce40-4aa5-9e64-0f34f9cc2431",
   "metadata": {},
   "outputs": [
    {
     "name": "stdout",
     "output_type": "stream",
     "text": [
      "False\n"
     ]
    },
    {
     "data": {
      "text/plain": [
       "bool"
      ]
     },
     "execution_count": 17,
     "metadata": {},
     "output_type": "execute_result"
    }
   ],
   "source": [
    "h = (a ==2) #Atribui à  variável h a expressão boleana \"a ==2\", como a é diferente de 2 ao printar h o resultado é \"False\"\n",
    "print(h)\n",
    "type(h)"
   ]
  },
  {
   "cell_type": "code",
   "execution_count": 19,
   "id": "b41671cf-1a0b-4044-8a5c-fddfc4111b13",
   "metadata": {},
   "outputs": [
    {
     "data": {
      "text/plain": [
       "bool"
      ]
     },
     "execution_count": 19,
     "metadata": {},
     "output_type": "execute_result"
    }
   ],
   "source": [
    "i = True #Atribui à variável \"i\" com o valor booleano \"True\" \n",
    "type(i)"
   ]
  },
  {
   "cell_type": "code",
   "execution_count": 20,
   "id": "0203df60-ec9a-4448-8008-4e333298c2e4",
   "metadata": {},
   "outputs": [
    {
     "data": {
      "text/plain": [
       "str"
      ]
     },
     "execution_count": 20,
     "metadata": {},
     "output_type": "execute_result"
    }
   ],
   "source": [
    "ii = 'True' ##Atribui à variável \"ii\" uma string descrita como \"True\" porque esta com aspas\n",
    "type(ii)"
   ]
  },
  {
   "cell_type": "markdown",
   "id": "2c56a424-65d8-40e0-932e-ed9cf4ef3133",
   "metadata": {},
   "source": [
    "## Operação de comparação "
   ]
  },
  {
   "cell_type": "code",
   "execution_count": 22,
   "id": "51e6efba-3bef-4b81-a256-bf016f4f0a8d",
   "metadata": {},
   "outputs": [
    {
     "data": {
      "text/plain": [
       "True"
      ]
     },
     "execution_count": 22,
     "metadata": {},
     "output_type": "execute_result"
    }
   ],
   "source": [
    "#Operação == --> Verifica se as variáveis \"a\" e \"b\" são iguais, se sim retorna \"True\", caso contrátrio \"False\"\n",
    "a == b"
   ]
  },
  {
   "cell_type": "code",
   "execution_count": 23,
   "id": "4c4818cb-ede7-4a6a-a56b-ba9ea5ed4ca7",
   "metadata": {},
   "outputs": [
    {
     "data": {
      "text/plain": [
       "False"
      ]
     },
     "execution_count": 23,
     "metadata": {},
     "output_type": "execute_result"
    }
   ],
   "source": [
    "#Operação >< --> Verifica se \"a\" é maior que \"b\", como \"a\" == \"b\" retorna \"False\"\n",
    "a>b"
   ]
  },
  {
   "cell_type": "code",
   "execution_count": 24,
   "id": "3dadfc34-45aa-4717-a798-7be25688e91b",
   "metadata": {},
   "outputs": [
    {
     "data": {
      "text/plain": [
       "False"
      ]
     },
     "execution_count": 24,
     "metadata": {},
     "output_type": "execute_result"
    }
   ],
   "source": [
    "# Operação != --> Verifica se \"a\" e \"b\" são diferentes \n",
    "a!= b "
   ]
  },
  {
   "cell_type": "code",
   "execution_count": 25,
   "id": "d504f9f5-e6ac-4889-a34d-a4adfe9acfba",
   "metadata": {},
   "outputs": [
    {
     "data": {
      "text/plain": [
       "True"
      ]
     },
     "execution_count": 25,
     "metadata": {},
     "output_type": "execute_result"
    }
   ],
   "source": [
    "# Operação >= ou <= --> Verifica se a maior ou igual a b\n",
    "a>=b"
   ]
  },
  {
   "cell_type": "markdown",
   "id": "1553ea07-8340-41ec-8747-548908f880bd",
   "metadata": {},
   "source": [
    "## Operações matemáticas"
   ]
  },
  {
   "cell_type": "code",
   "execution_count": 26,
   "id": "7bc151c5-201e-4d13-b6c2-65c8b5caac98",
   "metadata": {},
   "outputs": [
    {
     "data": {
      "text/plain": [
       "2.0"
      ]
     },
     "execution_count": 26,
     "metadata": {},
     "output_type": "execute_result"
    }
   ],
   "source": [
    "#Soma - Faz a soma das variáveis declaradas anteriormente \"a\" e \"b\"\n",
    "a+b"
   ]
  },
  {
   "cell_type": "code",
   "execution_count": 27,
   "id": "f2a0160e-c2c1-4eed-9322-52ad1a247c91",
   "metadata": {},
   "outputs": [
    {
     "name": "stdout",
     "output_type": "stream",
     "text": [
      "2.0\n"
     ]
    }
   ],
   "source": [
    "# Soma e atribui valor \n",
    "ab = a+b #Atribui o valor da soma das variáveis \"a\" e \"b\"  à variável \"ab\"\n",
    "print(ab)"
   ]
  },
  {
   "cell_type": "code",
   "execution_count": 30,
   "id": "8c7cbe35-f414-48a5-a6b2-505dce9590c9",
   "metadata": {},
   "outputs": [
    {
     "name": "stdout",
     "output_type": "stream",
     "text": [
      "Não use l como nome de varíavel\n",
      "1.0\n"
     ]
    }
   ],
   "source": [
    "#Multiplicação \n",
    "l = a*b #Faz a multiplicação da variável \"a\" e \"b\"\n",
    "print(\"Não use l como nome de varíavel\") #Informa para não usar \"l\" como variável, já que essa letra pode ser confundida com o número 1. Eu confundi inclusive, ao tentar implementar\n",
    "j= a*b #Refaz a operação usando outro nome para a variável \n",
    "print(j)"
   ]
  },
  {
   "cell_type": "code",
   "execution_count": 31,
   "id": "446c09d6-0f72-42bc-9537-8d95abce6359",
   "metadata": {},
   "outputs": [
    {
     "data": {
      "text/plain": [
       "1.0"
      ]
     },
     "execution_count": 31,
     "metadata": {},
     "output_type": "execute_result"
    }
   ],
   "source": [
    "#Divisão \n",
    "a/b #Faz a divisão de \"a\" e \"b\""
   ]
  },
  {
   "cell_type": "code",
   "execution_count": 32,
   "id": "ebbb4919-cf58-4c3f-a717-294d80f04cd2",
   "metadata": {},
   "outputs": [
    {
     "data": {
      "text/plain": [
       "25"
      ]
     },
     "execution_count": 32,
     "metadata": {},
     "output_type": "execute_result"
    }
   ],
   "source": [
    "# Potência\n",
    "5**2 # Faz a operação de 5², ** representa o elevado à"
   ]
  },
  {
   "cell_type": "code",
   "execution_count": 34,
   "id": "57c0ca79-ed80-46e8-ac98-0e038b7d76cc",
   "metadata": {},
   "outputs": [
    {
     "data": {
      "text/plain": [
       "22026.465794806718"
      ]
     },
     "execution_count": 34,
     "metadata": {},
     "output_type": "execute_result"
    }
   ],
   "source": [
    "#Operações matemáticas com biblioteca math\n",
    "import math #Importa a biblioteca math\n",
    "math.exp(10) #Chama a função math.exp(x), que retorna o valor da exponencial de x"
   ]
  },
  {
   "cell_type": "code",
   "execution_count": 35,
   "id": "2b1a5ee2-3f82-4055-83f0-30901add077e",
   "metadata": {},
   "outputs": [
    {
     "data": {
      "text/plain": [
       "1.0"
      ]
     },
     "execution_count": 35,
     "metadata": {},
     "output_type": "execute_result"
    }
   ],
   "source": [
    "math.exp(0) #Calcula a exponencial de 0"
   ]
  },
  {
   "cell_type": "code",
   "execution_count": 36,
   "id": "7a56abf3-82d9-47a0-8371-a1ea3c223a94",
   "metadata": {},
   "outputs": [
    {
     "data": {
      "text/plain": [
       "2.718281828459045"
      ]
     },
     "execution_count": 36,
     "metadata": {},
     "output_type": "execute_result"
    }
   ],
   "source": [
    "math.exp(a) # Calcula a exponencial da variável \"a\""
   ]
  },
  {
   "cell_type": "code",
   "execution_count": 37,
   "id": "0ea263f1-6d80-49ed-9ea5-a631f576e8cc",
   "metadata": {},
   "outputs": [
    {
     "data": {
      "text/plain": [
       "4.5399929762484854e-05"
      ]
     },
     "execution_count": 37,
     "metadata": {},
     "output_type": "execute_result"
    }
   ],
   "source": [
    "math.exp(-10)"
   ]
  },
  {
   "cell_type": "code",
   "execution_count": 38,
   "id": "57b723a0-0e6c-4bf4-8d61-18a5b79db064",
   "metadata": {},
   "outputs": [
    {
     "data": {
      "text/plain": [
       "0.0"
      ]
     },
     "execution_count": 38,
     "metadata": {},
     "output_type": "execute_result"
    }
   ],
   "source": [
    "import math as mt #importa a biblioteca math com um apelido mt\n",
    "mt.log(c) #Calcula o logarítimo natural de \"c\""
   ]
  },
  {
   "cell_type": "code",
   "execution_count": 39,
   "id": "29e089f0-8fa2-476c-a6c9-0b30c693de28",
   "metadata": {},
   "outputs": [
    {
     "data": {
      "text/plain": [
       "2.0"
      ]
     },
     "execution_count": 39,
     "metadata": {},
     "output_type": "execute_result"
    }
   ],
   "source": [
    "mt.log10(100) #Calcula o logarítimo base 10 de 100"
   ]
  },
  {
   "cell_type": "markdown",
   "id": "d63e45c4-42a8-421a-b94b-856a7c383394",
   "metadata": {},
   "source": [
    "## Listas"
   ]
  },
  {
   "cell_type": "code",
   "execution_count": 43,
   "id": "2ba77660-456a-4481-83f3-4623ddb7e55e",
   "metadata": {},
   "outputs": [
    {
     "name": "stdout",
     "output_type": "stream",
     "text": [
      "[1, 2, 3]\n"
     ]
    }
   ],
   "source": [
    "myFristList = [1,2,3] #O código cria uma lista chamada myFristList contendo os elementos [1, 2, 3] e, em seguida, imprime essa lista. \n",
    "print(myFristList) #lista é uma estrutura de dados que armazena uma coleção ordenada de elementos. Cada elemento em uma lista pode ser de qualquer tipo de dados, como números, strings, booleanos, ou até mesmo outras listas."
   ]
  },
  {
   "cell_type": "code",
   "execution_count": 44,
   "id": "d6547a5b-517f-40e8-8427-6c5d8fbade1f",
   "metadata": {},
   "outputs": [
    {
     "name": "stdout",
     "output_type": "stream",
     "text": [
      "1\n",
      "3\n"
     ]
    }
   ],
   "source": [
    "#Acessando valores da lista pelo index\n",
    "print(myFristList[0])\n",
    "print(myFristList[2]) #Acessa valores específicos da lista myFristList pelos seus índices e os imprime, o índice é um número que representa a posição de um elemento em uma sequência"
   ]
  },
  {
   "cell_type": "code",
   "execution_count": 45,
   "id": "72bdc3f7-4448-4533-806c-edf1dfa12cf8",
   "metadata": {},
   "outputs": [
    {
     "data": {
      "text/plain": [
       "False"
      ]
     },
     "execution_count": 45,
     "metadata": {},
     "output_type": "execute_result"
    }
   ],
   "source": [
    "myFristList==a #Verifica se a lista é igual a variável \"a\""
   ]
  },
  {
   "cell_type": "code",
   "execution_count": 46,
   "id": "509211f4-2dd7-4266-8efb-8b5299467ba5",
   "metadata": {},
   "outputs": [
    {
     "data": {
      "text/plain": [
       "True"
      ]
     },
     "execution_count": 46,
     "metadata": {},
     "output_type": "execute_result"
    }
   ],
   "source": [
    "myFristList[0]==a #Verifica se o elemento na posição 0 da lista é igual a \"a\""
   ]
  },
  {
   "cell_type": "code",
   "execution_count": 47,
   "id": "b726a669-561f-492a-b6f1-6af4065d6e3c",
   "metadata": {},
   "outputs": [
    {
     "name": "stdout",
     "output_type": "stream",
     "text": [
      "[1, 1, 'c']\n"
     ]
    }
   ],
   "source": [
    "mySecList = [1,a,'c']#Faz uma segunda lista com valores númericos, variáveis e um string\n",
    "print(mySecList)"
   ]
  },
  {
   "cell_type": "code",
   "execution_count": 48,
   "id": "e8372bcc-4dcb-4118-b630-cca42e43fcf0",
   "metadata": {},
   "outputs": [
    {
     "data": {
      "text/plain": [
       "list"
      ]
     },
     "execution_count": 48,
     "metadata": {},
     "output_type": "execute_result"
    }
   ],
   "source": [
    "type(mySecList)"
   ]
  },
  {
   "cell_type": "code",
   "execution_count": 49,
   "id": "dcbd5447-2538-4556-9b56-4008153ea559",
   "metadata": {},
   "outputs": [
    {
     "data": {
      "text/plain": [
       "str"
      ]
     },
     "execution_count": 49,
     "metadata": {},
     "output_type": "execute_result"
    }
   ],
   "source": [
    "type(mySecList[2])"
   ]
  },
  {
   "cell_type": "code",
   "execution_count": 50,
   "id": "607de6c7-73aa-4e17-8f38-f500978f14e1",
   "metadata": {},
   "outputs": [
    {
     "data": {
      "text/plain": [
       "int"
      ]
     },
     "execution_count": 50,
     "metadata": {},
     "output_type": "execute_result"
    }
   ],
   "source": [
    "type(mySecList[1])"
   ]
  },
  {
   "cell_type": "markdown",
   "id": "5387984a-f31b-4ede-b668-30a2ad36ef9c",
   "metadata": {},
   "source": [
    "## Caminhos = path"
   ]
  },
  {
   "cell_type": "code",
   "execution_count": 45,
   "id": "cb12dc4a-0426-48a2-96a2-12fb88e4888f",
   "metadata": {},
   "outputs": [
    {
     "name": "stdout",
     "output_type": "stream",
     "text": [
      "C:\\ENS5173_MayaraDargas\\ENS5173-2024.1_MayaraDargasSousa\n"
     ]
    }
   ],
   "source": [
    "path = r\"C:\\ENS5173_MayaraDargas\\ENS5173-2024.1_MayaraDargasSousa\" #Atribui uma string à variável path e, em seguida, imprime essa string. Esta string corresponde a um caminho de diretório no sistema de arquivos do Windows\n",
    "print(path) #O prefixo r antes das aspas indica uma string de \"raw\" (bruta) em Python. Isso significa que os caracteres de escape, como \\n ou \\t, não são interpretados, permitindo usar barras invertidas (\\)"
   ]
  },
  {
   "cell_type": "code",
   "execution_count": 36,
   "id": "9ecdd334-e77f-4c0d-a55f-8ae2748e82c3",
   "metadata": {},
   "outputs": [
    {
     "name": "stdout",
     "output_type": "stream",
     "text": [
      "C:/ENS5173_MayaraDargas/ENS5173-2024.1_MayaraDargasSousa\n"
     ]
    }
   ],
   "source": [
    "path = \"C:/ENS5173_MayaraDargas/ENS5173-2024.1_MayaraDargasSousa\"#Para evitar problemas com \"\\\", a barra inclinada para a direita \"/\" pode ser usada como um separador de diretório alternativo\n",
    "print(path)"
   ]
  },
  {
   "cell_type": "code",
   "execution_count": 46,
   "id": "c4f8fe89-26f9-4af4-9f5f-81bed8057459",
   "metadata": {},
   "outputs": [
    {
     "data": {
      "text/plain": [
       "['.git',\n",
       " '.gitignore',\n",
       " '.ipynb_checkpoints',\n",
       " 'Aula01.ipynb',\n",
       " 'inputs',\n",
       " 'README.md',\n",
       " 'scripts',\n",
       " 'test',\n",
       " 'venv']"
      ]
     },
     "execution_count": 46,
     "metadata": {},
     "output_type": "execute_result"
    }
   ],
   "source": [
    "import os # Importa o módulo \"os\" em seu programa Python. O módulo os fornece funções para interagir com o sistema operacional, como manipulação de arquivos, acesso ao sistema de arquivos, manipulação de caminhos de diretório, entre outras coisas\n",
    "#Listar arquivos da pasta\n",
    "os.listdir(path) #Isso chama a função listdir() do módulo \"os\". Esta função retorna uma lista contendo os nomes de entrada no diretório fornecido pelo caminho path. Portanto, os.listdir(path) está listando os arquivos e diretórios contidos no diretório especificado pelo caminho path"
   ]
  },
  {
   "cell_type": "code",
   "execution_count": 47,
   "id": "1210ee4b-6a9c-4e05-a348-431317c54cdd",
   "metadata": {},
   "outputs": [
    {
     "data": {
      "text/plain": [
       "'.git'"
      ]
     },
     "execution_count": 47,
     "metadata": {},
     "output_type": "execute_result"
    }
   ],
   "source": [
    "# Selecionar primeiro arquivo listado\n",
    "os.listdir(path)[0] #Seleciona o arquivo na poisção 0 contida na lista anterior"
   ]
  },
  {
   "cell_type": "code",
   "execution_count": 48,
   "id": "b9aa2e16-241b-4117-8fcd-2c6d0a1d472d",
   "metadata": {},
   "outputs": [
    {
     "data": {
      "text/plain": [
       "'C:\\\\ENS5173_MayaraDargas\\\\ENS5173-2024.1_MayaraDargasSousa/.git'"
      ]
     },
     "execution_count": 48,
     "metadata": {},
     "output_type": "execute_result"
    }
   ],
   "source": [
    "# Concatenando caminhos - constrói um caminho completo para o primeiro arquivo listado no diretório especificado por path\n",
    "path+\"/\"+os.listdir(path)[0] #Essa parte concatena o caminho especificado por path com o nome do primeiro arquivo encontrado no diretório. Portanto, em termos simples, este código está construindo o caminho completo para o primeiro arquivo ou diretório dentro do diretório especificado por path, utilizando \"/\" como separador de diretório."
   ]
  },
  {
   "cell_type": "code",
   "execution_count": 51,
   "id": "5ae4fd9d-baef-4442-b7b1-97a0b306c98b",
   "metadata": {},
   "outputs": [
    {
     "data": {
      "text/plain": [
       "['COMMIT_EDITMSG',\n",
       " 'config',\n",
       " 'description',\n",
       " 'FETCH_HEAD',\n",
       " 'HEAD',\n",
       " 'hooks',\n",
       " 'index',\n",
       " 'info',\n",
       " 'logs',\n",
       " 'objects',\n",
       " 'ORIG_HEAD',\n",
       " 'packed-refs',\n",
       " 'refs']"
      ]
     },
     "execution_count": 51,
     "metadata": {},
     "output_type": "execute_result"
    }
   ],
   "source": [
    "# Listando caminho concatenado\n",
    "os.listdir(path+\"/\"+os.listdir(path)[0])"
   ]
  },
  {
   "cell_type": "code",
   "execution_count": 54,
   "id": "e8490319-3e17-435d-a28d-42b839cf260e",
   "metadata": {},
   "outputs": [
    {
     "data": {
      "text/plain": [
       "'C:\\\\Users\\\\mayar\\\\OneDrive\\\\Documentos'"
      ]
     },
     "execution_count": 54,
     "metadata": {},
     "output_type": "execute_result"
    }
   ],
   "source": [
    "# Diretório que estou trababalhando\n",
    "os.getcwd() #Função que retorna diretório de trabalho atual "
   ]
  },
  {
   "cell_type": "code",
   "execution_count": 55,
   "id": "c0834525-64f4-4305-ac7f-c88057b76f1c",
   "metadata": {},
   "outputs": [],
   "source": [
    "# Mudo de diretório para o caminho \n",
    "os.chdir(\"C:\\ENS5173_MayaraDargas\\ENS5173-2024.1_MayaraDargasSousa\")"
   ]
  },
  {
   "cell_type": "code",
   "execution_count": 56,
   "id": "fd7f1f0b-b628-434b-b68b-253b800828c9",
   "metadata": {},
   "outputs": [
    {
     "data": {
      "text/plain": [
       "'C:\\\\ENS5173_MayaraDargas\\\\ENS5173-2024.1_MayaraDargasSousa'"
      ]
     },
     "execution_count": 56,
     "metadata": {},
     "output_type": "execute_result"
    }
   ],
   "source": [
    "os.getcwd() #Função que retorna diretório de trabalho atual "
   ]
  },
  {
   "cell_type": "code",
   "execution_count": 57,
   "id": "889ebb66-30c4-4b27-aa3c-5e756ad12a0c",
   "metadata": {},
   "outputs": [
    {
     "name": "stdout",
     "output_type": "stream",
     "text": [
      "diretório já existe\n"
     ]
    }
   ],
   "source": [
    "#Criando diretório - cria um novo diretório chamado \"test\" dentro do diretório de trabalho atual do programa\n",
    "new_path = os.getcwd()+'/test' #Cria uma nova variável new_path que contém o caminho completo para o diretório de trabalho atual (os.getcwd()) concatenado com o nome do diretório que você deseja criar, neste caso, \"test\".\n",
    "\n",
    "if os.path.isdir(new_path):#verifica se o caminho especificado em new_path corresponde a um diretório existente no sistema de arquivos\n",
    "    print('diretório já existe')#Se sim, retorna \"diretório já existe\"\n",
    "else:\n",
    "    print('Criando diretório '+new_path)#Caso contrário, retorna \"Criando diretório\"\n",
    "    os.mkdir(new_path)#Cria novo diretório com caminho especificado"
   ]
  },
  {
   "cell_type": "code",
   "execution_count": 60,
   "id": "8d9bcd34-2f63-4936-879f-89e71f9105cb",
   "metadata": {},
   "outputs": [
    {
     "name": "stdout",
     "output_type": "stream",
     "text": [
      "Criando diretório C:\\ENS5173_MayaraDargas\\ENS5173-2024.1_MayaraDargasSousa/test2\n"
     ]
    }
   ],
   "source": [
    "# Criando diretório\n",
    "new_path = os.getcwd()+'/test2' #Cria uma nova variável new_path que contém o caminho completo para o diretório de trabalho atual (os.getcwd()) concatenado com o nome do diretório que você deseja criar, neste caso, \"test2\".\n",
    "\n",
    "if os.path.isdir(new_path): #verifica se o caminho especificado em new_path corresponde a um diretório existente no sistema de arquivos\n",
    "    print('diretório já existe') #Se o diretório já existir, o código dentro do bloco if será executado.\n",
    "    # Criando um arquivo de texto\n",
    "    with open(new_path+\"/copy.txt\", \"w\") as file: #criam um arquivo de texto chamado \"copy.txt\" dentro do diretório \"test2\" e escrevem o texto \"Your text goes here\" dentro desse arquivo. O modo \"w\" indica que o arquivo será aberto para escrita. O bloco with garante que o arquivo será fechado automaticamente após a escrita.\n",
    "        file.write(\"Your text goes here\")\n",
    "else:#Se o caminho especificado em new_path não corresponder a um diretório existente, o código dentro do bloco else será executado\n",
    "    print('Criando diretório '+new_path) \n",
    "    os.mkdir(new_path) #cria um novo diretório com o caminho especificado em new_path utilizando a função os.mkdir().\n",
    "    with open(new_path+\"/copy.txt\", \"w\") as file: #cria um arquivo de texto chamado \"copy.txt\" dentro do diretório recém-criado \"test2\" e escrevem o texto \"Your text goes here\" dentro desse arquivo. O modo \"w\" indica que o arquivo será aberto para escrita. O bloco with garante que o arquivo será fechado automaticamente após a escrita.\n",
    "        file.write(\"Your text goes here\") "
   ]
  },
  {
   "cell_type": "markdown",
   "id": "3f7db09c-b0ff-4a36-93cc-8d32a7d0bb46",
   "metadata": {},
   "source": [
    "## Numpy arrays e Pandas DataFrames"
   ]
  },
  {
   "cell_type": "code",
   "execution_count": 2,
   "id": "6b8f7509-ce2d-4858-ba76-ca6f73c9935a",
   "metadata": {},
   "outputs": [
    {
     "data": {
      "text/plain": [
       "numpy.ndarray"
      ]
     },
     "execution_count": 2,
     "metadata": {},
     "output_type": "execute_result"
    }
   ],
   "source": [
    "import numpy as np #importa a biblioteca numpy como np \n",
    "# Criando uma variável numpy\n",
    "n = np.array(0) #Utilizando a função np.array() do NumPy para criar um array numpy, passando o número inteiro 0 como argumento para a função. \n",
    "type(n)"
   ]
  },
  {
   "cell_type": "code",
   "execution_count": 3,
   "id": "684c416a-9f10-46c0-ae2d-1e24ea58e54c",
   "metadata": {},
   "outputs": [
    {
     "name": "stdout",
     "output_type": "stream",
     "text": [
      "[ 1  2  3 10 20 55]\n"
     ]
    }
   ],
   "source": [
    "# Criando uma variável numpy a partir de uma lista\n",
    "myThirdList=[1,2,3,10,20,55] #cria uma lista \n",
    "n = np.array(myThirdList) #converte lista em um array numpy\n",
    "print(n)"
   ]
  },
  {
   "cell_type": "code",
   "execution_count": 4,
   "id": "e5fd7c88-a073-4187-bb4a-ed5b66beb1ae",
   "metadata": {},
   "outputs": [
    {
     "name": "stdout",
     "output_type": "stream",
     "text": [
      "[[0.61328738 0.74231872 0.08697741 0.08797987 0.34964056 0.66458839\n",
      "  0.25423123 0.33689815 0.18634357 0.28729242]\n",
      " [0.17919999 0.91612454 0.37547959 0.96895078 0.59358987 0.22245341\n",
      "  0.63329248 0.24446289 0.08674617 0.26720168]\n",
      " [0.54082959 0.50305426 0.31263228 0.76580402 0.44195992 0.23573714\n",
      "  0.16924425 0.78797323 0.05836433 0.89790838]\n",
      " [0.84017841 0.46164118 0.18556116 0.88271871 0.51060745 0.5663127\n",
      "  0.71920115 0.75815226 0.77837884 0.12854925]\n",
      " [0.46001909 0.48475844 0.95594494 0.78563971 0.1593947  0.40987403\n",
      "  0.54250232 0.16563677 0.05545976 0.69764474]\n",
      " [0.02141006 0.30278413 0.34994358 0.52650258 0.77447081 0.06138093\n",
      "  0.01744766 0.98585515 0.78153701 0.14889831]\n",
      " [0.08452312 0.21326523 0.9592332  0.95319746 0.55020908 0.01737797\n",
      "  0.4046398  0.02349183 0.87279349 0.01349596]\n",
      " [0.46990639 0.07781391 0.91705805 0.06853045 0.14307341 0.89480969\n",
      "  0.62976567 0.60705519 0.31556031 0.15251384]\n",
      " [0.07640586 0.56311757 0.84358711 0.81398179 0.44511514 0.65975303\n",
      "  0.10520034 0.93360561 0.8254621  0.0414513 ]\n",
      " [0.69573929 0.92218288 0.55380815 0.09661527 0.49763451 0.9653358\n",
      "  0.61752402 0.86168767 0.90014769 0.66575082]]\n",
      "(10, 10)\n"
     ]
    }
   ],
   "source": [
    "# Criando uma matriz de 10x10 de números aleatórios entre 0 e 1\n",
    "n = np.random.rand(10,10) #A função np.random.rand() gera números aleatórios de uma distribuição uniforme entre 0 e 1. Os dois argumentos (10, 10) indicam que queremos uma matriz de tamanho 10x10.\n",
    "print(n)\n",
    "# Dimensões da matrix\n",
    "print(n.shape) #imprime tamanho da matriz"
   ]
  },
  {
   "cell_type": "code",
   "execution_count": 7,
   "id": "f3f43e25-abf7-4c03-b8df-d072b89c4d19",
   "metadata": {},
   "outputs": [
    {
     "data": {
      "text/plain": [
       "array([0.61328738, 0.74231872, 0.08697741, 0.08797987, 0.34964056,\n",
       "       0.66458839, 0.25423123, 0.33689815, 0.18634357, 0.28729242])"
      ]
     },
     "execution_count": 7,
     "metadata": {},
     "output_type": "execute_result"
    }
   ],
   "source": [
    "# Acessando valores da matriz\n",
    "n[0,:] #n é o nome da matriz criada anteriormente. [0,:]: Este é o operador de indexação do NumPy usando para acessar os elementos da matriz. O primeiro índice 0 indica a linha que se deseja acessar. Neste caso, 0 indica a primeira linha da matriz. O segundo índice indica que se deseja acessar todos os elementos da linha selecionada"
   ]
  },
  {
   "cell_type": "code",
   "execution_count": 9,
   "id": "6189114c-8078-4f17-b242-f084b2da6d8f",
   "metadata": {},
   "outputs": [
    {
     "data": {
      "text/plain": [
       "array([0.61328738, 0.17919999, 0.54082959, 0.84017841, 0.46001909,\n",
       "       0.02141006, 0.08452312, 0.46990639, 0.07640586, 0.69573929])"
      ]
     },
     "execution_count": 9,
     "metadata": {},
     "output_type": "execute_result"
    }
   ],
   "source": [
    "n[:,0] # primeiro: indica que se deseja acessar todos os elementos das linhas da matriz.O segundo indica que se deseja acessar apenas o elemento na primeira coluna de cada linha."
   ]
  },
  {
   "cell_type": "code",
   "execution_count": 11,
   "id": "8ce2cbdd-2477-42dc-8db1-c92f4dd14e1e",
   "metadata": {},
   "outputs": [
    {
     "data": {
      "text/plain": [
       "array([[0.74231872, 0.08697741, 0.08797987, 0.34964056],\n",
       "       [0.91612454, 0.37547959, 0.96895078, 0.59358987],\n",
       "       [0.50305426, 0.31263228, 0.76580402, 0.44195992],\n",
       "       [0.46164118, 0.18556116, 0.88271871, 0.51060745],\n",
       "       [0.48475844, 0.95594494, 0.78563971, 0.1593947 ],\n",
       "       [0.30278413, 0.34994358, 0.52650258, 0.77447081],\n",
       "       [0.21326523, 0.9592332 , 0.95319746, 0.55020908],\n",
       "       [0.07781391, 0.91705805, 0.06853045, 0.14307341],\n",
       "       [0.56311757, 0.84358711, 0.81398179, 0.44511514],\n",
       "       [0.92218288, 0.55380815, 0.09661527, 0.49763451]])"
      ]
     },
     "execution_count": 11,
     "metadata": {},
     "output_type": "execute_result"
    }
   ],
   "source": [
    "n[:,1:5] #primeiro elemento acessa todas as linhas da matriz. Segundo elemento: 1:5 indica que você deseja acessar as colunas da segunda (índice 1) até a quinta (índice 4)."
   ]
  },
  {
   "cell_type": "code",
   "execution_count": 12,
   "id": "58de30fb-fee5-463b-b69e-255cebbeb556",
   "metadata": {},
   "outputs": [
    {
     "data": {
      "text/plain": [
       "array([0.74231872, 0.08697741, 0.08797987, 0.34964056])"
      ]
     },
     "execution_count": 12,
     "metadata": {},
     "output_type": "execute_result"
    }
   ],
   "source": [
    "n[0,1:5] #primeiro elemento acessa primeira linha (índice zero). Segundo elemento: 1:5 indica que você deseja acessar as colunas da segunda (índice 1) até a quinta (índice 4)."
   ]
  },
  {
   "cell_type": "code",
   "execution_count": 13,
   "id": "335dcb10-9cb3-4eb4-99a5-6775f5b1cdf9",
   "metadata": {},
   "outputs": [
    {
     "data": {
      "text/plain": [
       "0.28729242156015233"
      ]
     },
     "execution_count": 13,
     "metadata": {},
     "output_type": "execute_result"
    }
   ],
   "source": [
    "n[0,-1] #acessa o último elemento da primeira linha"
   ]
  },
  {
   "cell_type": "code",
   "execution_count": 14,
   "id": "89d205e4-0b81-4d6a-a473-3cb405c6597d",
   "metadata": {},
   "outputs": [
    {
     "data": {
      "text/plain": [
       "array([0.34964056, 0.66458839, 0.25423123, 0.33689815, 0.18634357])"
      ]
     },
     "execution_count": 14,
     "metadata": {},
     "output_type": "execute_result"
    }
   ],
   "source": [
    "n[0,4:-1] #indica que você deseja acessar os elementos a partir da quinta coluna até o penúltimo elemento da linha. O índice -1 refere-se ao último elemento de uma sequência."
   ]
  },
  {
   "cell_type": "code",
   "execution_count": 15,
   "id": "6ef5a5ac-0430-4a23-a0e5-c5083c23a8a0",
   "metadata": {},
   "outputs": [
    {
     "data": {
      "text/plain": [
       "array([0.34964056, 0.66458839, 0.25423123, 0.33689815, 0.18634357,\n",
       "       0.28729242])"
      ]
     },
     "execution_count": 15,
     "metadata": {},
     "output_type": "execute_result"
    }
   ],
   "source": [
    "n[0,4:] #acessa um intervalo de elementos da primeira linha da matriz n, começando da quinta coluna até o último elemento da linha"
   ]
  },
  {
   "cell_type": "code",
   "execution_count": 17,
   "id": "1a70b9bc-da62-4f37-83a0-c369312a256f",
   "metadata": {},
   "outputs": [
    {
     "name": "stdout",
     "output_type": "stream",
     "text": [
      "[[ 1.12051627  1.31146133 -0.83266888 -0.82120934  0.55858829  1.20085052\n",
      "   0.23992685  0.5214633  -0.07072525  0.36218322]\n",
      " [-0.10981492  1.52183495  0.62988674  1.57789645  1.08787126  0.10640031\n",
      "   1.152615    0.20074615 -0.83533108  0.28968636]\n",
      " [ 0.99478687  0.92238067  0.44671032  1.34260893  0.79290184  0.1644\n",
      "  -0.16697442  1.37114675 -1.23161246  1.50175067]\n",
      " [ 1.43529689  0.83647056 -0.07493282  1.48468922  0.93728372  1.04082904\n",
      "   1.27982371  1.33256687  1.35889598 -0.44200523]\n",
      " [ 0.83295062  0.88533335  1.56438295  1.36818093 -0.22693382  0.71753249\n",
      "   0.997875   -0.18852013 -1.28265968  1.24939264]\n",
      " [-2.23445662  0.41470275  0.55945457  0.96793887  1.35386261 -1.18121825\n",
      "  -2.4391121   1.59519207  1.36294514 -0.29505378]\n",
      " [-0.86129231  0.06421923  1.56781685  1.56150471  1.01198099 -2.44311394\n",
      "   0.70467993 -2.14166447  1.47338161 -2.69592733]\n",
      " [ 0.85421615 -0.9439971   1.52285341 -1.07103913 -0.33495948  1.49829369\n",
      "   1.14703044  1.11030234  0.45603247 -0.27106205]\n",
      " [-0.96225797  1.03517106  1.43934581  1.40362062  0.80001562  1.1935482\n",
      "  -0.64245083  1.54073673  1.41762598 -1.57379812]\n",
      " [ 1.24665764  1.52842619  1.01850096 -0.72758059  0.91154853  1.57415865\n",
      "   1.12740059  1.4605755   1.50424148  1.20259808]]\n"
     ]
    }
   ],
   "source": [
    "an = np.log(n*5) #an = np.log(n*5) calcula o logaritmo natural (base e) de cada elemento da matriz n multiplicado por 5 e armazena o resultado em uma nova matriz chamada an\n",
    "print(an)"
   ]
  },
  {
   "cell_type": "code",
   "execution_count": null,
   "id": "b304e8f6-aa2c-49a2-b84c-76a02700cf75",
   "metadata": {},
   "outputs": [],
   "source": []
  }
 ],
 "metadata": {
  "kernelspec": {
   "display_name": "Python 3 (ipykernel)",
   "language": "python",
   "name": "python3"
  },
  "language_info": {
   "codemirror_mode": {
    "name": "ipython",
    "version": 3
   },
   "file_extension": ".py",
   "mimetype": "text/x-python",
   "name": "python",
   "nbconvert_exporter": "python",
   "pygments_lexer": "ipython3",
   "version": "3.11.8"
  }
 },
 "nbformat": 4,
 "nbformat_minor": 5
}
