{
 "cells": [
  {
   "cell_type": "markdown",
   "id": "d04fdea0-ad55-4597-8b66-0dea509686ea",
   "metadata": {},
   "source": [
    "# Atividade 01: Etapa 01 --> Aula 02 - Python"
   ]
  },
  {
   "cell_type": "markdown",
   "id": "ec0989ae-81c8-4998-9e60-338eb632e695",
   "metadata": {},
   "source": [
    "## Dados númericos"
   ]
  },
  {
   "cell_type": "code",
   "execution_count": 3,
   "id": "518fad2e-b5d9-4a2f-a0b9-92f007b64385",
   "metadata": {},
   "outputs": [
    {
     "name": "stdout",
     "output_type": "stream",
     "text": [
      "Valor de a = 1\n"
     ]
    },
    {
     "data": {
      "text/plain": [
       "int"
      ]
     },
     "execution_count": 3,
     "metadata": {},
     "output_type": "execute_result"
    }
   ],
   "source": [
    "# Variável interira - Comentário: linha não executada, utilizada para fornecer informações sobre o código\n",
    "a = 1 # declara uma variável chamada \"a\" e atribui o valor inteiro 1 a ela\n",
    "print('Valor de a = '+str(a)) # O comando 'print\" imprime uma mensagem na tela que inclui o valor da variável a. str(a) é usado para converter o valor de a em uma string\n",
    "type(a) #é uma função que retorna o tipo de dados da variável"
   ]
  },
  {
   "cell_type": "code",
   "execution_count": 4,
   "id": "1a979757-ddcf-4043-acd8-192a3b6c07bb",
   "metadata": {},
   "outputs": [
    {
     "name": "stdout",
     "output_type": "stream",
     "text": [
      "1.0\n"
     ]
    },
    {
     "data": {
      "text/plain": [
       "float"
      ]
     },
     "execution_count": 4,
     "metadata": {},
     "output_type": "execute_result"
    }
   ],
   "source": [
    "#Variável dupla precisão\n",
    "b = 1.0 #b é uma variável que armazena um número real (ponto flutuante) com precisão dupla, ou seja, não é inteio como anteriormente\n",
    "print(b) \n",
    "type (b)"
   ]
  },
  {
   "cell_type": "code",
   "execution_count": 5,
   "id": "d82bf526-27aa-450b-967b-de7daeb6db3e",
   "metadata": {},
   "outputs": [
    {
     "name": "stdout",
     "output_type": "stream",
     "text": [
      "1\n"
     ]
    },
    {
     "data": {
      "text/plain": [
       "int"
      ]
     },
     "execution_count": 5,
     "metadata": {},
     "output_type": "execute_result"
    }
   ],
   "source": [
    "#Converter float para int\n",
    "c=int(b) #converte a variável criada anterioirmente em uma variável do tipo inteiro\n",
    "print(c)\n",
    "type(c)"
   ]
  },
  {
   "cell_type": "code",
   "execution_count": 7,
   "id": "2268013b-b638-499b-88f2-c7412fe13369",
   "metadata": {},
   "outputs": [
    {
     "name": "stdout",
     "output_type": "stream",
     "text": [
      "nan\n"
     ]
    },
    {
     "data": {
      "text/plain": [
       "float"
      ]
     },
     "execution_count": 7,
     "metadata": {},
     "output_type": "execute_result"
    }
   ],
   "source": [
    "#Declarando nan (Not a Number) \n",
    "import numpy as np #importa a biblioteca NumPy com um apelido np\n",
    "d = np.nan #Esta linha atribui à variável d o valor np.nan, que representa um valor \"Not a Number\" (NaN), um conceito comumente utilizado em cálculos numéricos e científicos para representar valores indefinidos ou ausentes\n",
    "print(d)\n",
    "type(d)"
   ]
  },
  {
   "cell_type": "code",
   "execution_count": 15,
   "id": "c049b21c-63bb-409f-9def-73c97991e80b",
   "metadata": {},
   "outputs": [
    {
     "name": "stdout",
     "output_type": "stream",
     "text": [
      "nan\n",
      "nan\n",
      "1.0\n"
     ]
    }
   ],
   "source": [
    "#Operação com NaN\n",
    "e = d*1 #Esta linha realiza uma operação de multiplicação entre a variável d e o número 1. Como d é um nan, qualquer operação matemática envolvendo um nan resultará em outro nan\n",
    "print(e) #Portanto, aqui como saída é printado \"nan\"\n",
    "e = d+1 #Mesma situação descrita antes, operação com um NaN resulta em NaN\n",
    "print(e)\n",
    "e = np.nansum([d,1]) #np.nansum() é uma função da biblioteca NumPy que é utilizada para somar os valores dos elementos array ([d, 1]), ignorando os valores nan (Not a Number). Sendo o array estruturas de dados que armazenam uma coleção de elementos números, strings ou outros tipos de dados, podendo ser no formato de vetor (informações unidimensionais) ou matriz (multidimensional).\n",
    "print(e) #Portanto, mesmo que d seja nan, a função irá somar o valor 1."
   ]
  },
  {
   "cell_type": "markdown",
   "id": "87cfb1a8-152c-43ce-aadb-d3727e9705ba",
   "metadata": {},
   "source": [
    "## Dados de texto"
   ]
  },
  {
   "cell_type": "code",
   "execution_count": 11,
   "id": "eeff303f-f851-45a5-8eed-7f3904169a3c",
   "metadata": {},
   "outputs": [
    {
     "name": "stdout",
     "output_type": "stream",
     "text": [
      "Fábio\n",
      "Gabriel\n",
      "FábioGabriel\n",
      "Fábio Gabriel\n"
     ]
    }
   ],
   "source": [
    "# Declaração de variável texto\n",
    "f = 'Fábio'#Delcara a variável \"f\" como 'Fábio', e a delimita como string por meio das aspas\n",
    "g = \"Gabriel\" #Mesma situação aneterioir, só que com aspas duplas\n",
    "print(f)\n",
    "print(g)\n",
    "print(f+g) #imprime o valor sem espaço\n",
    "print(f+' '+g) #imprime o valor com espaço ente os nomes "
   ]
  },
  {
   "cell_type": "markdown",
   "id": "5af05a41-bec4-4315-b5bf-76329ad24958",
   "metadata": {},
   "source": [
    "## Dados tipo bol - lógica "
   ]
  },
  {
   "cell_type": "code",
   "execution_count": 18,
   "id": "9314dc32-dd06-4071-aad5-966f5f69de2c",
   "metadata": {},
   "outputs": [
    {
     "data": {
      "text/plain": [
       "True"
      ]
     },
     "execution_count": 18,
     "metadata": {},
     "output_type": "execute_result"
    }
   ],
   "source": [
    "a == 1 #é uma expressão booleana em Python que compara o valor da variável a com o valor inteiro 1 atirbuído anteriormente, caso a seja igual a 1 retorna \"True\", caso contrário \"False\""
   ]
  },
  {
   "cell_type": "code",
   "execution_count": 17,
   "id": "69ca0f2c-ce40-4aa5-9e64-0f34f9cc2431",
   "metadata": {},
   "outputs": [
    {
     "name": "stdout",
     "output_type": "stream",
     "text": [
      "False\n"
     ]
    },
    {
     "data": {
      "text/plain": [
       "bool"
      ]
     },
     "execution_count": 17,
     "metadata": {},
     "output_type": "execute_result"
    }
   ],
   "source": [
    "h = (a ==2) #Atribui à  variável h a expressão boleana \"a ==2\", como a é diferente de 2 ao printar h o resultado é \"False\"\n",
    "print(h)\n",
    "type(h)"
   ]
  },
  {
   "cell_type": "code",
   "execution_count": 19,
   "id": "b41671cf-1a0b-4044-8a5c-fddfc4111b13",
   "metadata": {},
   "outputs": [
    {
     "data": {
      "text/plain": [
       "bool"
      ]
     },
     "execution_count": 19,
     "metadata": {},
     "output_type": "execute_result"
    }
   ],
   "source": [
    "i = True #Atribui à variável \"i\" com o valor booleano \"True\" \n",
    "type(i)"
   ]
  },
  {
   "cell_type": "code",
   "execution_count": 20,
   "id": "0203df60-ec9a-4448-8008-4e333298c2e4",
   "metadata": {},
   "outputs": [
    {
     "data": {
      "text/plain": [
       "str"
      ]
     },
     "execution_count": 20,
     "metadata": {},
     "output_type": "execute_result"
    }
   ],
   "source": [
    "ii = 'True' ##Atribui à variável \"ii\" uma string descrita como \"True\" porque esta com aspas\n",
    "type(ii)"
   ]
  },
  {
   "cell_type": "markdown",
   "id": "2c56a424-65d8-40e0-932e-ed9cf4ef3133",
   "metadata": {},
   "source": [
    "## Operação de comparação "
   ]
  },
  {
   "cell_type": "code",
   "execution_count": 22,
   "id": "51e6efba-3bef-4b81-a256-bf016f4f0a8d",
   "metadata": {},
   "outputs": [
    {
     "data": {
      "text/plain": [
       "True"
      ]
     },
     "execution_count": 22,
     "metadata": {},
     "output_type": "execute_result"
    }
   ],
   "source": [
    "#Operação == --> Verifica se as variáveis \"a\" e \"b\" são iguais, se sim retorna \"True\", caso contrátrio \"False\"\n",
    "a == b"
   ]
  },
  {
   "cell_type": "code",
   "execution_count": 23,
   "id": "4c4818cb-ede7-4a6a-a56b-ba9ea5ed4ca7",
   "metadata": {},
   "outputs": [
    {
     "data": {
      "text/plain": [
       "False"
      ]
     },
     "execution_count": 23,
     "metadata": {},
     "output_type": "execute_result"
    }
   ],
   "source": [
    "#Operação >< --> Verifica se \"a\" é maior que \"b\", como \"a\" == \"b\" retorna \"False\"\n",
    "a>b"
   ]
  },
  {
   "cell_type": "code",
   "execution_count": 24,
   "id": "3dadfc34-45aa-4717-a798-7be25688e91b",
   "metadata": {},
   "outputs": [
    {
     "data": {
      "text/plain": [
       "False"
      ]
     },
     "execution_count": 24,
     "metadata": {},
     "output_type": "execute_result"
    }
   ],
   "source": [
    "# Operação != --> Verifica se \"a\" e \"b\" são diferentes \n",
    "a!= b "
   ]
  },
  {
   "cell_type": "code",
   "execution_count": 25,
   "id": "d504f9f5-e6ac-4889-a34d-a4adfe9acfba",
   "metadata": {},
   "outputs": [
    {
     "data": {
      "text/plain": [
       "True"
      ]
     },
     "execution_count": 25,
     "metadata": {},
     "output_type": "execute_result"
    }
   ],
   "source": [
    "# Operação >= ou <= --> Verifica se a maior ou igual a b\n",
    "a>=b"
   ]
  },
  {
   "cell_type": "markdown",
   "id": "1553ea07-8340-41ec-8747-548908f880bd",
   "metadata": {},
   "source": [
    "## Operações matemáticas"
   ]
  },
  {
   "cell_type": "code",
   "execution_count": 26,
   "id": "7bc151c5-201e-4d13-b6c2-65c8b5caac98",
   "metadata": {},
   "outputs": [
    {
     "data": {
      "text/plain": [
       "2.0"
      ]
     },
     "execution_count": 26,
     "metadata": {},
     "output_type": "execute_result"
    }
   ],
   "source": [
    "#Soma - Faz a soma das variáveis declaradas anteriormente \"a\" e \"b\"\n",
    "a+b"
   ]
  },
  {
   "cell_type": "code",
   "execution_count": 27,
   "id": "f2a0160e-c2c1-4eed-9322-52ad1a247c91",
   "metadata": {},
   "outputs": [
    {
     "name": "stdout",
     "output_type": "stream",
     "text": [
      "2.0\n"
     ]
    }
   ],
   "source": [
    "# Soma e atribui valor \n",
    "ab = a+b #Atribui o valor da soma das variáveis \"a\" e \"b\"  à variável \"ab\"\n",
    "print(ab)"
   ]
  },
  {
   "cell_type": "code",
   "execution_count": 30,
   "id": "8c7cbe35-f414-48a5-a6b2-505dce9590c9",
   "metadata": {},
   "outputs": [
    {
     "name": "stdout",
     "output_type": "stream",
     "text": [
      "Não use l como nome de varíavel\n",
      "1.0\n"
     ]
    }
   ],
   "source": [
    "#Multiplicação \n",
    "l = a*b #Faz a multiplicação da variável \"a\" e \"b\"\n",
    "print(\"Não use l como nome de varíavel\") #Informa para não usar \"l\" como variável, já que essa letra pode ser confundida com o número 1. Eu confundi inclusive, ao tentar implementar\n",
    "j= a*b #Refaz a operação usando outro nome para a variável \n",
    "print(j)"
   ]
  },
  {
   "cell_type": "code",
   "execution_count": 31,
   "id": "446c09d6-0f72-42bc-9537-8d95abce6359",
   "metadata": {},
   "outputs": [
    {
     "data": {
      "text/plain": [
       "1.0"
      ]
     },
     "execution_count": 31,
     "metadata": {},
     "output_type": "execute_result"
    }
   ],
   "source": [
    "#Divisão \n",
    "a/b #Faz a divisão de \"a\" e \"b\""
   ]
  },
  {
   "cell_type": "code",
   "execution_count": 32,
   "id": "ebbb4919-cf58-4c3f-a717-294d80f04cd2",
   "metadata": {},
   "outputs": [
    {
     "data": {
      "text/plain": [
       "25"
      ]
     },
     "execution_count": 32,
     "metadata": {},
     "output_type": "execute_result"
    }
   ],
   "source": [
    "# Potência\n",
    "5**2 # Faz a operação de 5², ** representa o elevado à"
   ]
  },
  {
   "cell_type": "code",
   "execution_count": 34,
   "id": "57c0ca79-ed80-46e8-ac98-0e038b7d76cc",
   "metadata": {},
   "outputs": [
    {
     "data": {
      "text/plain": [
       "22026.465794806718"
      ]
     },
     "execution_count": 34,
     "metadata": {},
     "output_type": "execute_result"
    }
   ],
   "source": [
    "#Operações matemáticas com biblioteca math\n",
    "import math #Importa a biblioteca math\n",
    "math.exp(10) #Chama a função math.exp(x), que retorna o valor da exponencial de x"
   ]
  },
  {
   "cell_type": "code",
   "execution_count": 35,
   "id": "2b1a5ee2-3f82-4055-83f0-30901add077e",
   "metadata": {},
   "outputs": [
    {
     "data": {
      "text/plain": [
       "1.0"
      ]
     },
     "execution_count": 35,
     "metadata": {},
     "output_type": "execute_result"
    }
   ],
   "source": [
    "math.exp(0) #Calcula a exponencial de 0"
   ]
  },
  {
   "cell_type": "code",
   "execution_count": 36,
   "id": "7a56abf3-82d9-47a0-8371-a1ea3c223a94",
   "metadata": {},
   "outputs": [
    {
     "data": {
      "text/plain": [
       "2.718281828459045"
      ]
     },
     "execution_count": 36,
     "metadata": {},
     "output_type": "execute_result"
    }
   ],
   "source": [
    "math.exp(a) # Calcula a exponencial da variável \"a\""
   ]
  },
  {
   "cell_type": "code",
   "execution_count": 37,
   "id": "0ea263f1-6d80-49ed-9ea5-a631f576e8cc",
   "metadata": {},
   "outputs": [
    {
     "data": {
      "text/plain": [
       "4.5399929762484854e-05"
      ]
     },
     "execution_count": 37,
     "metadata": {},
     "output_type": "execute_result"
    }
   ],
   "source": [
    "math.exp(-10)"
   ]
  },
  {
   "cell_type": "code",
   "execution_count": 38,
   "id": "57b723a0-0e6c-4bf4-8d61-18a5b79db064",
   "metadata": {},
   "outputs": [
    {
     "data": {
      "text/plain": [
       "0.0"
      ]
     },
     "execution_count": 38,
     "metadata": {},
     "output_type": "execute_result"
    }
   ],
   "source": [
    "import math as mt #importa a biblioteca math com um apelido mt\n",
    "mt.log(c) #Calcula o logarítimo natural de \"c\""
   ]
  },
  {
   "cell_type": "code",
   "execution_count": 39,
   "id": "29e089f0-8fa2-476c-a6c9-0b30c693de28",
   "metadata": {},
   "outputs": [
    {
     "data": {
      "text/plain": [
       "2.0"
      ]
     },
     "execution_count": 39,
     "metadata": {},
     "output_type": "execute_result"
    }
   ],
   "source": [
    "mt.log10(100) #Calcula o logarítimo base 10 de 100"
   ]
  },
  {
   "cell_type": "markdown",
   "id": "d63e45c4-42a8-421a-b94b-856a7c383394",
   "metadata": {},
   "source": [
    "## Listas"
   ]
  },
  {
   "cell_type": "code",
   "execution_count": 40,
   "id": "2ba77660-456a-4481-83f3-4623ddb7e55e",
   "metadata": {},
   "outputs": [
    {
     "name": "stdout",
     "output_type": "stream",
     "text": [
      "[1, 2, 3]\n"
     ]
    }
   ],
   "source": [
    "myFristList = [1,2,3] #O código cria uma lista chamada myFristList contendo os elementos [1, 2, 3] e, em seguida, imprime essa lista. \n",
    "print(myFristList) #lista é uma estrutura de dados que armazena uma coleção ordenada de elementos. Cada elemento em uma lista pode ser de qualquer tipo de dados, como números, strings, booleanos, ou até mesmo outras listas."
   ]
  },
  {
   "cell_type": "code",
   "execution_count": 44,
   "id": "d6547a5b-517f-40e8-8427-6c5d8fbade1f",
   "metadata": {},
   "outputs": [
    {
     "name": "stdout",
     "output_type": "stream",
     "text": [
      "1\n",
      "3\n"
     ]
    }
   ],
   "source": [
    "#Acessando valores da lista pelo index\n",
    "print(myFristList[0])\n",
    "print(myFristList[2]) #Acessa valores específicos da lista myFristList pelos seus índices e os imprime, o índice é um número que representa a posição de um elemento em uma sequência"
   ]
  },
  {
   "cell_type": "code",
   "execution_count": 45,
   "id": "72bdc3f7-4448-4533-806c-edf1dfa12cf8",
   "metadata": {},
   "outputs": [
    {
     "data": {
      "text/plain": [
       "False"
      ]
     },
     "execution_count": 45,
     "metadata": {},
     "output_type": "execute_result"
    }
   ],
   "source": [
    "myFristList==a #Verifica se a lista é igual a variável \"a\""
   ]
  },
  {
   "cell_type": "code",
   "execution_count": 46,
   "id": "509211f4-2dd7-4266-8efb-8b5299467ba5",
   "metadata": {},
   "outputs": [
    {
     "data": {
      "text/plain": [
       "True"
      ]
     },
     "execution_count": 46,
     "metadata": {},
     "output_type": "execute_result"
    }
   ],
   "source": [
    "myFristList[0]==a #Verifica se o elemento na posição 0 da lista é igual a \"a\""
   ]
  },
  {
   "cell_type": "code",
   "execution_count": 47,
   "id": "b726a669-561f-492a-b6f1-6af4065d6e3c",
   "metadata": {},
   "outputs": [
    {
     "name": "stdout",
     "output_type": "stream",
     "text": [
      "[1, 1, 'c']\n"
     ]
    }
   ],
   "source": [
    "mySecList = [1,a,'c']#Faz uma segunda lista com valores númericos, variáveis e um string\n",
    "print(mySecList)"
   ]
  },
  {
   "cell_type": "code",
   "execution_count": 48,
   "id": "e8372bcc-4dcb-4118-b630-cca42e43fcf0",
   "metadata": {},
   "outputs": [
    {
     "data": {
      "text/plain": [
       "list"
      ]
     },
     "execution_count": 48,
     "metadata": {},
     "output_type": "execute_result"
    }
   ],
   "source": [
    "type(mySecList)"
   ]
  },
  {
   "cell_type": "code",
   "execution_count": 49,
   "id": "dcbd5447-2538-4556-9b56-4008153ea559",
   "metadata": {},
   "outputs": [
    {
     "data": {
      "text/plain": [
       "str"
      ]
     },
     "execution_count": 49,
     "metadata": {},
     "output_type": "execute_result"
    }
   ],
   "source": [
    "type(mySecList[2])"
   ]
  },
  {
   "cell_type": "code",
   "execution_count": 50,
   "id": "607de6c7-73aa-4e17-8f38-f500978f14e1",
   "metadata": {},
   "outputs": [
    {
     "data": {
      "text/plain": [
       "int"
      ]
     },
     "execution_count": 50,
     "metadata": {},
     "output_type": "execute_result"
    }
   ],
   "source": [
    "type(mySecList[1])"
   ]
  },
  {
   "cell_type": "markdown",
   "id": "5387984a-f31b-4ede-b668-30a2ad36ef9c",
   "metadata": {},
   "source": [
    "## Caminhos = path"
   ]
  },
  {
   "cell_type": "code",
   "execution_count": 51,
   "id": "cb12dc4a-0426-48a2-96a2-12fb88e4888f",
   "metadata": {},
   "outputs": [
    {
     "name": "stdout",
     "output_type": "stream",
     "text": [
      "C:\\ENS5173_MayaraDargas\\ENS5173-2024.1_MayaraDargasSousa\n"
     ]
    }
   ],
   "source": [
    "path = r\"C:\\ENS5173_MayaraDargas\\ENS5173-2024.1_MayaraDargasSousa\" #Atribui uma string à variável path e, em seguida, imprime essa string. Esta string corresponde a um caminho de diretório no sistema de arquivos do Windows\n",
    "print(path) #O prefixo r antes das aspas indica uma string de \"raw\" (bruta) em Python. Isso significa que os caracteres de escape, como \\n ou \\t, não são interpretados, permitindo usar barras invertidas (\\)"
   ]
  },
  {
   "cell_type": "code",
   "execution_count": 52,
   "id": "9ecdd334-e77f-4c0d-a55f-8ae2748e82c3",
   "metadata": {},
   "outputs": [
    {
     "name": "stdout",
     "output_type": "stream",
     "text": [
      "C:/ENS5173_MayaraDargas/ENS5173-2024.1_MayaraDargasSousa\n"
     ]
    }
   ],
   "source": [
    "path = \"C:/ENS5173_MayaraDargas/ENS5173-2024.1_MayaraDargasSousa\"#Para evitar problemas com \"\\\", a barra inclinada para a direita \"/\" pode ser usada como um separador de diretório alternativo\n",
    "print(path)"
   ]
  },
  {
   "cell_type": "code",
   "execution_count": 53,
   "id": "c4f8fe89-26f9-4af4-9f5f-81bed8057459",
   "metadata": {},
   "outputs": [
    {
     "data": {
      "text/plain": [
       "['.git',\n",
       " '.gitignore',\n",
       " '.ipynb_checkpoints',\n",
       " 'Aula01.ipynb',\n",
       " 'inputs',\n",
       " 'README.md',\n",
       " 'scripts',\n",
       " 'TESTE.ipynb',\n",
       " 'venv']"
      ]
     },
     "execution_count": 53,
     "metadata": {},
     "output_type": "execute_result"
    }
   ],
   "source": [
    "import os # Importa o módulo \"os\" em seu programa Python. O módulo os fornece funções para interagir com o sistema operacional, como manipulação de arquivos, acesso ao sistema de arquivos, manipulação de caminhos de diretório, entre outras coisas\n",
    "#Listar arquivos da pasta\n",
    "os.listdir(path) #Isso chama a função listdir() do módulo \"os\". Esta função retorna uma lista contendo os nomes de entrada no diretório fornecido pelo caminho path. Portanto, os.listdir(path) está listando os arquivos e diretórios contidos no diretório especificado pelo caminho path"
   ]
  },
  {
   "cell_type": "code",
   "execution_count": 54,
   "id": "1210ee4b-6a9c-4e05-a348-431317c54cdd",
   "metadata": {},
   "outputs": [
    {
     "data": {
      "text/plain": [
       "'.git'"
      ]
     },
     "execution_count": 54,
     "metadata": {},
     "output_type": "execute_result"
    }
   ],
   "source": [
    "# Selecionar primeiro arquivo listado\n",
    "os.listdir(path)[0] #Seleciona o arquivo na poisção 0 contida na lista anterior"
   ]
  },
  {
   "cell_type": "code",
   "execution_count": 76,
   "id": "b9aa2e16-241b-4117-8fcd-2c6d0a1d472d",
   "metadata": {},
   "outputs": [
    {
     "data": {
      "text/plain": [
       "'C:/ENS5173_MayaraDargas/ENS5173-2024.1_MayaraDargasSousa/.git'"
      ]
     },
     "execution_count": 76,
     "metadata": {},
     "output_type": "execute_result"
    }
   ],
   "source": [
    "# Concatenando caminhos - constrói um caminho completo para o primeiro arquivo listado no diretório especificado por path\n",
    "path+\"/\"+os.listdir(path)[0] #Essa parte concatena o caminho especificado por path com o nome do primeiro arquivo encontrado no diretório. Portanto, em termos simples, este código está construindo o caminho completo para o primeiro arquivo ou diretório dentro do diretório especificado por path, utilizando \"/\" como separador de diretório."
   ]
  },
  {
   "cell_type": "code",
   "execution_count": 77,
   "id": "5ae4fd9d-baef-4442-b7b1-97a0b306c98b",
   "metadata": {},
   "outputs": [
    {
     "data": {
      "text/plain": [
       "['COMMIT_EDITMSG',\n",
       " 'config',\n",
       " 'description',\n",
       " 'FETCH_HEAD',\n",
       " 'HEAD',\n",
       " 'hooks',\n",
       " 'index',\n",
       " 'info',\n",
       " 'logs',\n",
       " 'objects',\n",
       " 'packed-refs',\n",
       " 'refs']"
      ]
     },
     "execution_count": 77,
     "metadata": {},
     "output_type": "execute_result"
    }
   ],
   "source": [
    "# Listando caminho concatenado\n",
    "os.listdir(path+\"/\"+os.listdir(path)[0])"
   ]
  },
  {
   "cell_type": "code",
   "execution_count": 78,
   "id": "e8490319-3e17-435d-a28d-42b839cf260e",
   "metadata": {},
   "outputs": [
    {
     "data": {
      "text/plain": [
       "'C:\\\\ENS5173_MayaraDargas\\\\ENS5173-2024.1_MayaraDargasSousa'"
      ]
     },
     "execution_count": 78,
     "metadata": {},
     "output_type": "execute_result"
    }
   ],
   "source": [
    "# Diretório que estou trababalhando\n",
    "os.getcwd() #Função que retorna diretório de trabalho atual *POR ALGUM MOTIVO QUE DESCONHEÇO MEU DIRETÓRIO ATUAL NÃO MUDA "
   ]
  },
  {
   "cell_type": "code",
   "execution_count": 80,
   "id": "ab960a4d-bfa1-4e6a-bb97-ed7464037d2b",
   "metadata": {},
   "outputs": [
    {
     "name": "stdout",
     "output_type": "stream",
     "text": [
      "Criando diretório C:\\ENS5173_MayaraDargas\\ENS5173-2024.1_MayaraDargasSousa/test\n"
     ]
    }
   ],
   "source": [
    "#Criando diretório - cria um novo diretório chamado \"test\" dentro do diretório de trabalho atual do programa\n",
    "new_path = os.getcwd()+'/test' #Cria uma nova variável new_path que contém o caminho completo para o diretório de trabalho atual (os.getcwd()) concatenado com o nome do diretório que você deseja criar, neste caso, \"test\".\n",
    "\n",
    "if os.path.isdir(new_path):#verifica se o caminho especificado em new_path corresponde a um diretório existente no sistema de arquivos\n",
    "    print('diretório já existe')#Se sim, retorna \"diretório já existe\"\n",
    "else:\n",
    "    print('Criando diretório '+new_path)#Caso contrário, retorna \"Criando diretório\"\n",
    "    os.mkdir(new_path)#Cria novo diretório com caminho especificado"
   ]
  },
  {
   "cell_type": "code",
   "execution_count": null,
   "id": "0140396c-a3cd-4cf7-921f-d513e9ce7080",
   "metadata": {},
   "outputs": [],
   "source": []
  },
  {
   "cell_type": "code",
   "execution_count": null,
   "id": "e39fc6c2-76c3-44bb-bd73-66dec1ff5af8",
   "metadata": {},
   "outputs": [],
   "source": []
  },
  {
   "cell_type": "markdown",
   "id": "3f7db09c-b0ff-4a36-93cc-8d32a7d0bb46",
   "metadata": {},
   "source": [
    "## Numpy arrays e Pandas DataFrames"
   ]
  },
  {
   "cell_type": "code",
   "execution_count": 82,
   "id": "6b8f7509-ce2d-4858-ba76-ca6f73c9935a",
   "metadata": {},
   "outputs": [
    {
     "data": {
      "text/plain": [
       "numpy.ndarray"
      ]
     },
     "execution_count": 82,
     "metadata": {},
     "output_type": "execute_result"
    }
   ],
   "source": [
    "import numpy as np #importa a biblioteca numpy como np \n",
    "# Criando uma variável numpy\n",
    "n = np.array(0)\n",
    "type(n)"
   ]
  },
  {
   "cell_type": "code",
   "execution_count": null,
   "id": "684c416a-9f10-46c0-ae2d-1e24ea58e54c",
   "metadata": {},
   "outputs": [],
   "source": []
  }
 ],
 "metadata": {
  "kernelspec": {
   "display_name": "Python 3 (ipykernel)",
   "language": "python",
   "name": "python3"
  },
  "language_info": {
   "codemirror_mode": {
    "name": "ipython",
    "version": 3
   },
   "file_extension": ".py",
   "mimetype": "text/x-python",
   "name": "python",
   "nbconvert_exporter": "python",
   "pygments_lexer": "ipython3",
   "version": "3.11.8"
  }
 },
 "nbformat": 4,
 "nbformat_minor": 5
}
