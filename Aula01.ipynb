{
 "cells": [
  {
   "cell_type": "markdown",
   "id": "46b31d58-299e-4e80-9bfd-78a6b01d3e09",
   "metadata": {},
   "source": [
    "# Aula 03/04/2024 - Comandos Básicos no Python\n",
    "Nesta Aula aprenderemos a importar pacotes e os tipos de váriaveis\\\n",
    "Desenvolvedor: Mayara Dargas Sousa"
   ]
  },
  {
   "cell_type": "markdown",
   "id": "7b4a7646-3b17-4138-8d71-e65b8f1bb2de",
   "metadata": {},
   "source": [
    "## Tipos de variáveis"
   ]
  },
  {
   "cell_type": "code",
   "execution_count": 14,
   "id": "1af4bf83-92c8-4728-9029-6bed01157255",
   "metadata": {},
   "outputs": [
    {
     "name": "stdout",
     "output_type": "stream",
     "text": [
      "a= 1\n",
      "<class 'int'>\n"
     ]
    }
   ],
   "source": [
    "# Criando variáveis inteiras\n",
    "a = 1 #crio váriavel a\n",
    "print ('a= '+str(a)) #mostra na tela a soma das strings \n",
    "print(type(a)) #mostrar tipo de variável \n"
   ]
  },
  {
   "cell_type": "code",
   "execution_count": 16,
   "id": "3fab0eca-8c80-461d-9e85-11594328ae06",
   "metadata": {},
   "outputs": [
    {
     "name": "stdout",
     "output_type": "stream",
     "text": [
      "Salve o Corinthians\n",
      "<class 'str'>\n"
     ]
    }
   ],
   "source": [
    "# Criando váriaveis strings \n",
    "b = 'Salve o '\n",
    "c = 'Corinthians'\n",
    "print(b+c)\n",
    "print (type(b))\n"
   ]
  },
  {
   "cell_type": "code",
   "execution_count": 18,
   "id": "56a391dd-d9c3-4faf-b528-76712f7c1c91",
   "metadata": {},
   "outputs": [
    {
     "name": "stdout",
     "output_type": "stream",
     "text": [
      "666.66\n",
      "<class 'float'>\n"
     ]
    }
   ],
   "source": [
    "#Criando variáveis float/double precision\n",
    "d = 666.66\n",
    "print(d)\n",
    "print(type(d))"
   ]
  },
  {
   "cell_type": "code",
   "execution_count": null,
   "id": "8783d166-347b-491b-b2be-6c4468379249",
   "metadata": {},
   "outputs": [],
   "source": []
  }
 ],
 "metadata": {
  "kernelspec": {
   "display_name": "Python 3 (ipykernel)",
   "language": "python",
   "name": "python3"
  },
  "language_info": {
   "codemirror_mode": {
    "name": "ipython",
    "version": 3
   },
   "file_extension": ".py",
   "mimetype": "text/x-python",
   "name": "python",
   "nbconvert_exporter": "python",
   "pygments_lexer": "ipython3",
   "version": "3.11.8"
  }
 },
 "nbformat": 4,
 "nbformat_minor": 5
}
