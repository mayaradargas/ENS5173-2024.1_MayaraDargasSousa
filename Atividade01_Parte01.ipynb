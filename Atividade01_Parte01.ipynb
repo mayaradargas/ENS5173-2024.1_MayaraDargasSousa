{
 "cells": [
  {
   "cell_type": "markdown",
   "id": "80c1f0f8-c4b5-4d70-9de4-9e3180b63f17",
   "metadata": {},
   "source": [
    "# Atividade 01 - Parte 01 - INventário de emissões utilizando Python"
   ]
  },
  {
   "cell_type": "markdown",
   "id": "35d2b584-1f23-4da7-ac0f-7b4acf004b8a",
   "metadata": {},
   "source": [
    "### Aluna: Mayara Dargas Sousa"
   ]
  },
  {
   "cell_type": "markdown",
   "id": "45a9d1bb-8cc8-437d-8858-1cdc2564418d",
   "metadata": {},
   "source": [
    "# Abir planilha de fatores de emissões compilada"
   ]
  },
  {
   "cell_type": "code",
   "execution_count": 1,
   "id": "57e69b33-e78e-4ba4-975c-56000be111b9",
   "metadata": {},
   "outputs": [],
   "source": [
    "### Utilizei o capítulo 11.7 da AP 42pois .....link"
   ]
  },
  {
   "cell_type": "code",
   "execution_count": 3,
   "id": "00531093-ec01-4d71-97af-4526b8117626",
   "metadata": {},
   "outputs": [],
   "source": [
    "#Utilizando Pandas para abrir a planilha \n",
    "import pandas as pd\n",
    "import os\n",
    "\n",
    "# Criando o caminho da pasta que estou \n",
    "cwd = os.getcwd()\n",
    "\n",
    "#Pasta dos fatores de emissão \n",
    "path=cwd+'\\\\tabelas\\\\FE'\n",
    "print(path)\n",
    "\n",
    "#INdicando nome do arquivo \n",
    "chapterName = 11\n",
    "subChapter = 7 \n",
    "file = 'chp_'+str(chatername\n",
    "\n",
    "\n"
   ]
  },
  {
   "cell_type": "code",
   "execution_count": 4,
   "id": "f9be7849-4b13-41da-bbaf-ece33aee03a8",
   "metadata": {},
   "outputs": [
    {
     "ename": "NameError",
     "evalue": "name 'ply' is not defined",
     "output_type": "error",
     "traceback": [
      "\u001b[1;31m---------------------------------------------------------------\u001b[0m",
      "\u001b[1;31mNameError\u001b[0m                     Traceback (most recent call last)",
      "Cell \u001b[1;32mIn[4], line 4\u001b[0m\n\u001b[0;32m      1\u001b[0m \u001b[38;5;66;03m#Plotando os fatores de emissão \u001b[39;00m\n\u001b[0;32m      2\u001b[0m \u001b[38;5;28;01mimport\u001b[39;00m \u001b[38;5;21;01mmatplotlib\u001b[39;00m\u001b[38;5;21;01m.\u001b[39;00m\u001b[38;5;21;01mpyplot\u001b[39;00m \u001b[38;5;28;01mas\u001b[39;00m \u001b[38;5;21;01mplt\u001b[39;00m \n\u001b[1;32m----> 4\u001b[0m fig,ax \u001b[38;5;241m=\u001b[39m \u001b[43mply\u001b[49m\u001b[38;5;241m.\u001b[39msubplots()\n\u001b[0;32m      5\u001b[0m fe\u001b[38;5;241m.\u001b[39mplot(ax\u001b[38;5;241m=\u001b[39max)\n",
      "\u001b[1;31mNameError\u001b[0m: name 'ply' is not defined"
     ]
    }
   ],
   "source": [
    "#Plotando os fatores de emissão \n",
    "import matplotlib.pyplot as plt \n",
    "\n",
    "fig,ax = ply.subplots()\n",
    "fe.plot(ax=ax)\n"
   ]
  },
  {
   "cell_type": "code",
   "execution_count": 5,
   "id": "b55b0f25-8000-4a98-a793-07f17f98af4f",
   "metadata": {},
   "outputs": [
    {
     "ename": "SyntaxError",
     "evalue": "closing parenthesis '}' does not match opening parenthesis '[' (2272240258.py, line 4)",
     "output_type": "error",
     "traceback": [
      "\u001b[1;36m  Cell \u001b[1;32mIn[5], line 4\u001b[1;36m\u001b[0m\n\u001b[1;33m    emis=fe['PM'}*atv\u001b[0m\n\u001b[1;37m                ^\u001b[0m\n\u001b[1;31mSyntaxError\u001b[0m\u001b[1;31m:\u001b[0m closing parenthesis '}' does not match opening parenthesis '['\n"
     ]
    }
   ],
   "source": [
    "#Plotando os fatores de emissão para só uma coluna\n",
    "import matplotlib.pyplot as plt \n",
    "\n",
    "emis=fe['PM'}*atv\n",
    "\n",
    "fig,ax = plt.subplots()\n",
    "emis.plot.bar(ax=ax,x='Source')\n",
    "\n",
    "\n"
   ]
  },
  {
   "cell_type": "code",
   "execution_count": null,
   "id": "859a7fee-992b-4ce3-bfeb-568c70363115",
   "metadata": {},
   "outputs": [],
   "source": []
  }
 ],
 "metadata": {
  "kernelspec": {
   "display_name": "Python 3 (ipykernel)",
   "language": "python",
   "name": "python3"
  },
  "language_info": {
   "codemirror_mode": {
    "name": "ipython",
    "version": 3
   },
   "file_extension": ".py",
   "mimetype": "text/x-python",
   "name": "python",
   "nbconvert_exporter": "python",
   "pygments_lexer": "ipython3",
   "version": "3.11.8"
  }
 },
 "nbformat": 4,
 "nbformat_minor": 5
}
