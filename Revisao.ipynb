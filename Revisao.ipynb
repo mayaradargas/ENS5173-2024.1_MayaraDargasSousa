{
 "cells": [
  {
   "cell_type": "code",
   "execution_count": 1,
   "id": "ef0130f8-e251-4219-8db4-594af81dd225",
   "metadata": {},
   "outputs": [
    {
     "name": "stdout",
     "output_type": "stream",
     "text": [
      "Guilherme gente fina\n"
     ]
    }
   ],
   "source": [
    "#Tipos de variáveis - string\n",
    "a = 'Guilherme ' \n",
    "b = a + 'gente fina'\n",
    "print(b)\n"
   ]
  },
  {
   "cell_type": "code",
   "execution_count": 2,
   "id": "0ddb6023-3387-4009-bd61-9ed3b875048e",
   "metadata": {},
   "outputs": [
    {
     "name": "stdout",
     "output_type": "stream",
     "text": [
      "11\n",
      "<class 'int'>\n"
     ]
    }
   ],
   "source": [
    "#Tipos de variáveis - inteira \n",
    "c = 1 \n",
    "d = c+10 \n",
    "print(d)\n",
    "print(type(d))\n"
   ]
  },
  {
   "cell_type": "code",
   "execution_count": 12,
   "id": "2c688568-7d83-4988-a7f3-3d36e83c0159",
   "metadata": {},
   "outputs": [
    {
     "name": "stdout",
     "output_type": "stream",
     "text": [
      "valor de g = 21.0 e o valor de h = 110.25\n",
      "<class 'float'>\n",
      "Valor de f = 10 do tipo =<class 'int'>\n"
     ]
    }
   ],
   "source": [
    "#Tipos de variáveis - float\n",
    "f = 10.5\n",
    "g=f*2\n",
    "h=f**2\n",
    "print('valor de g = ' +str(g) + ' e o valor de h = ' +str(h))\n",
    "print(type(h))\n",
    "f = int(f)\n",
    "print('Valor de f = '+str(f)+ ' do tipo =' +str(type(f)))\n"
   ]
  },
  {
   "cell_type": "code",
   "execution_count": 15,
   "id": "f84d49d3-6e00-4dcc-9531-2241312ab81f",
   "metadata": {},
   "outputs": [
    {
     "name": "stdout",
     "output_type": "stream",
     "text": [
      "['Guilherme', 'Flavia', 'Lucas']\n",
      "[3, 6, 6]\n",
      "<class 'list'>\n"
     ]
    }
   ],
   "source": [
    "# Exemplo dicionário\n",
    "\n",
    "dicionario = {\n",
    "    'alunos':['Guilherme', 'Flavia', 'Lucas'],\n",
    "    'notas': [3, 6, 6]\n",
    "}\n",
    "\n",
    "print(dicionario['alunos'])\n",
    "print(dicionario['notas'])\n",
    "print(type(dicionario['notas']))"
   ]
  },
  {
   "cell_type": "code",
   "execution_count": 34,
   "id": "9e09a23b-eb4c-49ba-8fda-45902486030c",
   "metadata": {},
   "outputs": [
    {
     "name": "stdout",
     "output_type": "stream",
     "text": [
      "0 Guilherme nota = 3\n",
      "1 Flavia nota = 6\n",
      "2 Lucas nota = 6\n",
      " \n"
     ]
    }
   ],
   "source": [
    "#Treinando loop \n",
    "for ii,aluno in enumerate (dicionario['alunos']):\n",
    "    #para cada valor de dicionários faça print\n",
    "    print(str(ii)+ ' ' + aluno + ' nota = ' + str(dicionario['notas'][ii]))\n",
    "\n",
    "print(' ')\n",
    "\n"
   ]
  },
  {
   "cell_type": "code",
   "execution_count": 36,
   "id": "cb8a5504-f142-4bbe-9b51-808d77e0b584",
   "metadata": {},
   "outputs": [
    {
     "name": "stdout",
     "output_type": "stream",
     "text": [
      "0 Guilherme nota = 10.0\n",
      "1 Flavia nota = 6\n",
      "2 Lucas nota = 6\n",
      " \n",
      "2 Lucas nota = 10\n"
     ]
    }
   ],
   "source": [
    "#Treinando loop com condição\n",
    "for ii,aluno in enumerate (dicionario['alunos']):\n",
    "    if aluno == 'Guilherme': \n",
    "        print(str(ii)+ ' ' + aluno + ' nota = 10.0')\n",
    "    else:\n",
    "        print(str(ii)+ ' ' + aluno + ' nota = ' + str(dicionario['notas'][ii]))\n",
    "\n",
    "print(' ')\n",
    "\n",
    "for ii,aluno in enumerate (dicionario['alunos']):\n",
    "    if ii == 2:\n",
    "    #para ca:da valor de dicionários faça print\n",
    "        print(str(ii)+ ' ' + aluno + ' nota = 10')\n"
   ]
  },
  {
   "cell_type": "code",
   "execution_count": 37,
   "id": "81859f72-6258-4e4d-b972-c989a2f029ea",
   "metadata": {},
   "outputs": [
    {
     "name": "stdout",
     "output_type": "stream",
     "text": [
      "0 Guilherme nota = 10.0\n",
      "1 Flavia nota = 6\n",
      "2 Lucas nota = 6\n"
     ]
    }
   ],
   "source": [
    "#Treinando loop com condição\n",
    "for ii,aluno in enumerate (dicionario['alunos']):\n",
    "    if (aluno == 'Guilherme') and (dicionario['notas'][ii]<= 9): \n",
    "        print(str(ii)+ ' ' + aluno + ' nota = 10.0')\n",
    "    else:\n",
    "        print(str(ii)+ ' ' + aluno + ' nota = ' + str(dicionario['notas'][ii]))\n",
    "        \n"
   ]
  },
  {
   "cell_type": "code",
   "execution_count": 39,
   "id": "b93ad588-9edb-4ad3-b08f-1e6123dd835c",
   "metadata": {},
   "outputs": [
    {
     "name": "stdout",
     "output_type": "stream",
     "text": [
      "['Guilherme' 'Flavia' 'Lucas']\n",
      "<class 'numpy.ndarray'>\n",
      " \n",
      "['Guilherme' 'Flavia' 'Lucas']\n"
     ]
    }
   ],
   "source": [
    "#Treinando NUmpy \n",
    "import numpy as np\n",
    "mat = np.array(dicionario['alunos'])\n",
    "print(mat)\n",
    "print(type(mat))\n",
    "\n",
    "print(' ')\n",
    "mat2 = np.array(dicionario['alunos']=='Lucas')\n",
    "print(mat2)\n"
   ]
  },
  {
   "cell_type": "code",
   "execution_count": null,
   "id": "034a8c41-3f23-4494-8ae6-1b8996b6ab9f",
   "metadata": {},
   "outputs": [],
   "source": []
  }
 ],
 "metadata": {
  "kernelspec": {
   "display_name": "Python 3 (ipykernel)",
   "language": "python",
   "name": "python3"
  },
  "language_info": {
   "codemirror_mode": {
    "name": "ipython",
    "version": 3
   },
   "file_extension": ".py",
   "mimetype": "text/x-python",
   "name": "python",
   "nbconvert_exporter": "python",
   "pygments_lexer": "ipython3",
   "version": "3.11.8"
  }
 },
 "nbformat": 4,
 "nbformat_minor": 5
}
