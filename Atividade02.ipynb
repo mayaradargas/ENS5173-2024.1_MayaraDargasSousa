{
 "cells": [
  {
   "cell_type": "markdown",
   "id": "a2196d7f-8a6c-4c70-8d60-ef995f48a9e2",
   "metadata": {},
   "source": [
    "#Caracterização metereológica da área de estudo "
   ]
  },
  {
   "cell_type": "code",
   "execution_count": 7,
   "id": "a32769fd-c7ed-486f-a2dd-c67e33f7ba70",
   "metadata": {},
   "outputs": [
    {
     "name": "stdout",
     "output_type": "stream",
     "text": [
      "C:\\ENS5173_MayaraDargas\\ENS5173-2024.1_MayaraDargasSousa\n",
      "C:\\ENS5173_MayaraDargas\\ENS5173-2024.1_MayaraDargasSousa\\inputs\\meteoSuperficie\n",
      "['metar.csv']\n"
     ]
    }
   ],
   "source": [
    "# Selecionar arquivo para análise - arrumar para 2022 e 2023\n",
    "\n",
    "#Pegando caminho do diretório que estou\n",
    "import os\n",
    "rootPath = os.getcwd()\n",
    "print(rootPath)\n",
    "metSuperficiePath = rootPath + '\\\\inputs\\\\meteoSuperficie'\n",
    "print(metSuperficiePath)\n",
    "\n",
    "#Listando os arquvios dentri di diretório \n",
    "files = os.listdir(metSuperficiePath)\n",
    "print(files)"
   ]
  },
  {
   "cell_type": "code",
   "execution_count": 10,
   "id": "7d5771b0-3d4f-4b9d-abea-d5512898a79a",
   "metadata": {},
   "outputs": [
    {
     "ename": "SyntaxError",
     "evalue": "invalid syntax. Perhaps you forgot a comma? (2857117679.py, line 6)",
     "output_type": "error",
     "traceback": [
      "\u001b[1;36m  Cell \u001b[1;32mIn[10], line 6\u001b[1;36m\u001b[0m\n\u001b[1;33m    metSuperficie = pd.read_csv(metSuperficiePath+'\\\\'file) #Contcatenando caminho da pasta mais, cuidar para não concatenar quando não é uma lista\u001b[0m\n\u001b[1;37m                                ^\u001b[0m\n\u001b[1;31mSyntaxError\u001b[0m\u001b[1;31m:\u001b[0m invalid syntax. Perhaps you forgot a comma?\n"
     ]
    }
   ],
   "source": [
    "#Abrindo os arquivos metar\n",
    "import pandas as pd\n",
    "\n",
    "metSuperficie=[]\n",
    "\n",
    "for file in files: \n",
    "    metSuperficie.append(pd.read.csv(metSuperficiePath+'\\\\'+file)) #Contcatenando caminho da pasta mais, mas da erro pois é unão é uma lista \n",
    "print(type(metSuperficie)\n",
    "      "
   ]
  },
  {
   "cell_type": "code",
   "execution_count": null,
   "id": "97df8767-b4a2-47e3-8af6-d24a4c867468",
   "metadata": {},
   "outputs": [],
   "source": []
  }
 ],
 "metadata": {
  "kernelspec": {
   "display_name": "Python 3 (ipykernel)",
   "language": "python",
   "name": "python3"
  },
  "language_info": {
   "codemirror_mode": {
    "name": "ipython",
    "version": 3
   },
   "file_extension": ".py",
   "mimetype": "text/x-python",
   "name": "python",
   "nbconvert_exporter": "python",
   "pygments_lexer": "ipython3",
   "version": "3.11.8"
  }
 },
 "nbformat": 4,
 "nbformat_minor": 5
}
