{
 "cells": [
  {
   "cell_type": "markdown",
   "id": "9773bf36-89ed-4d04-ad58-4a5685be2f98",
   "metadata": {},
   "source": [
    "#AULA 01 - TESTE PARA O GITHUB "
   ]
  },
  {
   "cell_type": "code",
   "execution_count": 2,
   "id": "520bcadc-178a-46a2-a4d3-8323f066aa0b",
   "metadata": {},
   "outputs": [
    {
     "name": "stdout",
     "output_type": "stream",
     "text": [
      "3\n"
     ]
    }
   ],
   "source": [
    "a=1\n",
    "b=2\n",
    "print(a+b)"
   ]
  },
  {
   "cell_type": "code",
   "execution_count": null,
   "id": "75bfe32a-ccbd-422e-9f96-d8c54e3b9c8a",
   "metadata": {},
   "outputs": [],
   "source": [
    "a=mayara\n",
    "b=dargas\n",
    "c=sousa"
   ]
  }
 ],
 "metadata": {
  "kernelspec": {
   "display_name": "Python 3 (ipykernel)",
   "language": "python",
   "name": "python3"
  },
  "language_info": {
   "codemirror_mode": {
    "name": "ipython",
    "version": 3
   },
   "file_extension": ".py",
   "mimetype": "text/x-python",
   "name": "python",
   "nbconvert_exporter": "python",
   "pygments_lexer": "ipython3",
   "version": "3.11.8"
  }
 },
 "nbformat": 4,
 "nbformat_minor": 5
}
