{
 "cells": [
  {
   "cell_type": "markdown",
   "id": "d0a0fd3e-baae-4208-bf56-a9e601f3340d",
   "metadata": {},
   "source": [
    "# Atividade 03 - Parte 01"
   ]
  },
  {
   "cell_type": "markdown",
   "id": "f6efe37c-417e-4e63-a01f-1d814f6c3238",
   "metadata": {},
   "source": [
    "## Modelagem de Dispersão"
   ]
  },
  {
   "cell_type": "code",
   "execution_count": null,
   "id": "87887a41-ca09-4475-a67a-fab3b4810cd3",
   "metadata": {},
   "outputs": [],
   "source": []
  }
 ],
 "metadata": {
  "kernelspec": {
   "display_name": "Python 3 (ipykernel)",
   "language": "python",
   "name": "python3"
  },
  "language_info": {
   "codemirror_mode": {
    "name": "ipython",
    "version": 3
   },
   "file_extension": ".py",
   "mimetype": "text/x-python",
   "name": "python",
   "nbconvert_exporter": "python",
   "pygments_lexer": "ipython3",
   "version": "3.11.8"
  }
 },
 "nbformat": 4,
 "nbformat_minor": 5
}
