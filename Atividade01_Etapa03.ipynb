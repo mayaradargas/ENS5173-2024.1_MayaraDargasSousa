{
 "cells": [
  {
   "cell_type": "markdown",
   "id": "d9a997c2-db0d-448a-a85b-87b21cc009a3",
   "metadata": {},
   "source": [
    "# Atividade 01 - Etapa 03"
   ]
  },
  {
   "cell_type": "markdown",
   "id": "755e1fba-5863-44ea-a960-d8e69510eb44",
   "metadata": {},
   "source": [
    "## Indústria escolhida: Brandili - Roupas infantis "
   ]
  },
  {
   "cell_type": "markdown",
   "id": "cf3a1992-91e3-4849-8c46-42fc9bdad3ce",
   "metadata": {},
   "source": [
    "#### Empresa Catarinense de roupas que já atingiu o mercado nacional e internacional e hoje chega a ter uma produção de cerca de 15 milhões de peças por ano, segundo o site da própria marca (https://www.grupobrandili.com.br/)"
   ]
  },
  {
   "cell_type": "code",
   "execution_count": 6,
   "id": "352a30f7-edbf-4cbd-a4b8-adae3edb9269",
   "metadata": {},
   "outputs": [],
   "source": [
    "import numpy as np #importa a biblioteca Numpy com apelido np\n",
    "#Criando vetor de dados aleatórios\n",
    "data = np.random.rand(1000,2)"
   ]
  },
  {
   "cell_type": "code",
   "execution_count": 8,
   "id": "4061e287-b7da-4437-8c64-e8fcd0a97ad3",
   "metadata": {},
   "outputs": [
    {
     "name": "stdout",
     "output_type": "stream",
     "text": [
      "[[1.66632002e+14 1.50795238e+13]\n",
      " [3.62005053e+13 1.50839719e+12]\n",
      " [1.09553442e+14 1.95685412e+14]\n",
      " [1.48125528e+14 1.44952704e+14]\n",
      " [2.51061526e+13 7.55765765e+13]\n",
      " [3.47075121e+13 9.55184896e+13]\n",
      " [2.91771992e+13 1.33778463e+14]\n",
      " [1.47912390e+14 1.64448924e+14]\n",
      " [2.09474596e+14 2.47306292e+13]\n",
      " [1.82014076e+14 1.40904826e+14]]\n"
     ]
    }
   ],
   "source": [
    "# Gerar números aleatórios que representem a atividade industrial - Peças de roupas produzidas\n",
    "dataMax = 15000000 # Define os limites superior e inferior do intervalo desejado para os dados.\n",
    "dataMin = 1000000\n",
    "data = (dataMax - dataMin)*data + dataMin #Aplica o método de Monte Carlo para transformar uma amostra de dados aleatórios entre 0 e 1 (gerada anteriormente) em uma amostra dentro do intervalo desejado. O método de Monte Carlo é comumente usado para simulações e cálculos numéricos. Aqui, está sendo usado para escalar e transladar os valores aleatórios gerados anteriormente para o intervalo desejado.\n",
    "print(data[0:10])"
   ]
  },
  {
   "cell_type": "code",
   "execution_count": null,
   "id": "79f09660-45f4-48db-9914-60d6c30d61bb",
   "metadata": {},
   "outputs": [],
   "source": []
  }
 ],
 "metadata": {
  "kernelspec": {
   "display_name": "Python 3 (ipykernel)",
   "language": "python",
   "name": "python3"
  },
  "language_info": {
   "codemirror_mode": {
    "name": "ipython",
    "version": 3
   },
   "file_extension": ".py",
   "mimetype": "text/x-python",
   "name": "python",
   "nbconvert_exporter": "python",
   "pygments_lexer": "ipython3",
   "version": "3.11.8"
  }
 },
 "nbformat": 4,
 "nbformat_minor": 5
}
